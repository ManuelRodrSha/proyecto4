{
 "cells": [
  {
   "cell_type": "code",
   "execution_count": 1,
   "id": "b9bc4b77",
   "metadata": {},
   "outputs": [],
   "source": [
    "import pandas as pd"
   ]
  },
  {
   "cell_type": "markdown",
   "id": "d6cf75bf",
   "metadata": {},
   "source": [
    "# air_dates.csv"
   ]
  },
  {
   "cell_type": "markdown",
   "id": "a771c357",
   "metadata": {},
   "source": [
    "### Fecha de lanzamiento de la serie"
   ]
  },
  {
   "cell_type": "code",
   "execution_count": null,
   "id": "6fce123e",
   "metadata": {},
   "outputs": [
    {
     "data": {
      "text/html": [
       "<div>\n",
       "<style scoped>\n",
       "    .dataframe tbody tr th:only-of-type {\n",
       "        vertical-align: middle;\n",
       "    }\n",
       "\n",
       "    .dataframe tbody tr th {\n",
       "        vertical-align: top;\n",
       "    }\n",
       "\n",
       "    .dataframe thead th {\n",
       "        text-align: right;\n",
       "    }\n",
       "</style>\n",
       "<table border=\"1\" class=\"dataframe\">\n",
       "  <thead>\n",
       "    <tr style=\"text-align: right;\">\n",
       "      <th></th>\n",
       "      <th>is_first</th>\n",
       "      <th>show_id</th>\n",
       "      <th>date</th>\n",
       "    </tr>\n",
       "  </thead>\n",
       "  <tbody>\n",
       "    <tr>\n",
       "      <th>0</th>\n",
       "      <td>1</td>\n",
       "      <td>1399</td>\n",
       "      <td>2011-04-17</td>\n",
       "    </tr>\n",
       "    <tr>\n",
       "      <th>1</th>\n",
       "      <td>1</td>\n",
       "      <td>71446</td>\n",
       "      <td>2017-05-02</td>\n",
       "    </tr>\n",
       "    <tr>\n",
       "      <th>2</th>\n",
       "      <td>1</td>\n",
       "      <td>66732</td>\n",
       "      <td>2016-07-15</td>\n",
       "    </tr>\n",
       "    <tr>\n",
       "      <th>3</th>\n",
       "      <td>1</td>\n",
       "      <td>1402</td>\n",
       "      <td>2010-10-31</td>\n",
       "    </tr>\n",
       "    <tr>\n",
       "      <th>4</th>\n",
       "      <td>1</td>\n",
       "      <td>63174</td>\n",
       "      <td>2016-01-25</td>\n",
       "    </tr>\n",
       "    <tr>\n",
       "      <th>...</th>\n",
       "      <td>...</td>\n",
       "      <td>...</td>\n",
       "      <td>...</td>\n",
       "    </tr>\n",
       "    <tr>\n",
       "      <th>324281</th>\n",
       "      <td>0</td>\n",
       "      <td>240434</td>\n",
       "      <td>NaN</td>\n",
       "    </tr>\n",
       "    <tr>\n",
       "      <th>324282</th>\n",
       "      <td>0</td>\n",
       "      <td>240436</td>\n",
       "      <td>NaN</td>\n",
       "    </tr>\n",
       "    <tr>\n",
       "      <th>324283</th>\n",
       "      <td>0</td>\n",
       "      <td>240437</td>\n",
       "      <td>2022-05-08</td>\n",
       "    </tr>\n",
       "    <tr>\n",
       "      <th>324284</th>\n",
       "      <td>0</td>\n",
       "      <td>240438</td>\n",
       "      <td>2018-05-24</td>\n",
       "    </tr>\n",
       "    <tr>\n",
       "      <th>324285</th>\n",
       "      <td>0</td>\n",
       "      <td>240424</td>\n",
       "      <td>2007-05-12</td>\n",
       "    </tr>\n",
       "  </tbody>\n",
       "</table>\n",
       "<p>324286 rows × 3 columns</p>\n",
       "</div>"
      ],
      "text/plain": [
       "        is_first  show_id        date\n",
       "0              1     1399  2011-04-17\n",
       "1              1    71446  2017-05-02\n",
       "2              1    66732  2016-07-15\n",
       "3              1     1402  2010-10-31\n",
       "4              1    63174  2016-01-25\n",
       "...          ...      ...         ...\n",
       "324281         0   240434         NaN\n",
       "324282         0   240436         NaN\n",
       "324283         0   240437  2022-05-08\n",
       "324284         0   240438  2018-05-24\n",
       "324285         0   240424  2007-05-12\n",
       "\n",
       "[324286 rows x 3 columns]"
      ]
     },
     "execution_count": 3,
     "metadata": {},
     "output_type": "execute_result"
    }
   ],
   "source": [
    "air_dates_df = pd.read_csv(\"..\\\\datasets\\\\air_dates.csv\")\n",
    "air_dates_df"
   ]
  },
  {
   "cell_type": "code",
   "execution_count": 5,
   "id": "4786b776",
   "metadata": {},
   "outputs": [
    {
     "name": "stdout",
     "output_type": "stream",
     "text": [
      "<class 'pandas.core.frame.DataFrame'>\n",
      "RangeIndex: 324286 entries, 0 to 324285\n",
      "Data columns (total 3 columns):\n",
      " #   Column    Non-Null Count   Dtype \n",
      "---  ------    --------------   ----- \n",
      " 0   is_first  324286 non-null  int64 \n",
      " 1   show_id   324286 non-null  int64 \n",
      " 2   date      264930 non-null  object\n",
      "dtypes: int64(2), object(1)\n",
      "memory usage: 7.4+ MB\n"
     ]
    }
   ],
   "source": [
    "air_dates_df.info()"
   ]
  },
  {
   "cell_type": "code",
   "execution_count": 9,
   "id": "8517d1c0",
   "metadata": {},
   "outputs": [
    {
     "data": {
      "text/plain": [
       "is_first        0\n",
       "show_id         0\n",
       "date        59356\n",
       "dtype: int64"
      ]
     },
     "execution_count": 9,
     "metadata": {},
     "output_type": "execute_result"
    }
   ],
   "source": [
    "air_dates_df.isnull().sum()"
   ]
  },
  {
   "cell_type": "markdown",
   "id": "3a76c08f",
   "metadata": {},
   "source": [
    "# created_by_types.csv"
   ]
  },
  {
   "cell_type": "markdown",
   "id": "53d08bd5",
   "metadata": {},
   "source": [
    "### Nombre del creador de la serie"
   ]
  },
  {
   "cell_type": "code",
   "execution_count": 10,
   "id": "1c22b956",
   "metadata": {},
   "outputs": [
    {
     "data": {
      "text/html": [
       "<div>\n",
       "<style scoped>\n",
       "    .dataframe tbody tr th:only-of-type {\n",
       "        vertical-align: middle;\n",
       "    }\n",
       "\n",
       "    .dataframe tbody tr th {\n",
       "        vertical-align: top;\n",
       "    }\n",
       "\n",
       "    .dataframe thead th {\n",
       "        text-align: right;\n",
       "    }\n",
       "</style>\n",
       "<table border=\"1\" class=\"dataframe\">\n",
       "  <thead>\n",
       "    <tr style=\"text-align: right;\">\n",
       "      <th></th>\n",
       "      <th>created_by_type_id</th>\n",
       "      <th>created_by_name</th>\n",
       "    </tr>\n",
       "  </thead>\n",
       "  <tbody>\n",
       "    <tr>\n",
       "      <th>0</th>\n",
       "      <td>1</td>\n",
       "      <td>Diane Kredensor</td>\n",
       "    </tr>\n",
       "    <tr>\n",
       "      <th>1</th>\n",
       "      <td>2</td>\n",
       "      <td>Sylvain Gouverneur</td>\n",
       "    </tr>\n",
       "    <tr>\n",
       "      <th>2</th>\n",
       "      <td>3</td>\n",
       "      <td>Tim Bullock</td>\n",
       "    </tr>\n",
       "    <tr>\n",
       "      <th>3</th>\n",
       "      <td>4</td>\n",
       "      <td>Brad Garrett</td>\n",
       "    </tr>\n",
       "    <tr>\n",
       "      <th>4</th>\n",
       "      <td>5</td>\n",
       "      <td>Ary Fernandes</td>\n",
       "    </tr>\n",
       "    <tr>\n",
       "      <th>...</th>\n",
       "      <td>...</td>\n",
       "      <td>...</td>\n",
       "    </tr>\n",
       "    <tr>\n",
       "      <th>31847</th>\n",
       "      <td>31848</td>\n",
       "      <td>Bruno Hampel</td>\n",
       "    </tr>\n",
       "    <tr>\n",
       "      <th>31848</th>\n",
       "      <td>31849</td>\n",
       "      <td>Zhou Mo</td>\n",
       "    </tr>\n",
       "    <tr>\n",
       "      <th>31849</th>\n",
       "      <td>31850</td>\n",
       "      <td>David Welch</td>\n",
       "    </tr>\n",
       "    <tr>\n",
       "      <th>31850</th>\n",
       "      <td>31851</td>\n",
       "      <td>Arvind Babbal</td>\n",
       "    </tr>\n",
       "    <tr>\n",
       "      <th>31851</th>\n",
       "      <td>31852</td>\n",
       "      <td>Damián Szifron</td>\n",
       "    </tr>\n",
       "  </tbody>\n",
       "</table>\n",
       "<p>31852 rows × 2 columns</p>\n",
       "</div>"
      ],
      "text/plain": [
       "       created_by_type_id     created_by_name\n",
       "0                       1     Diane Kredensor\n",
       "1                       2  Sylvain Gouverneur\n",
       "2                       3         Tim Bullock\n",
       "3                       4        Brad Garrett\n",
       "4                       5       Ary Fernandes\n",
       "...                   ...                 ...\n",
       "31847               31848        Bruno Hampel\n",
       "31848               31849             Zhou Mo\n",
       "31849               31850         David Welch\n",
       "31850               31851       Arvind Babbal\n",
       "31851               31852      Damián Szifron\n",
       "\n",
       "[31852 rows x 2 columns]"
      ]
     },
     "execution_count": 10,
     "metadata": {},
     "output_type": "execute_result"
    }
   ],
   "source": [
    "created_by_df = pd.read_csv(\"csv/created_by_types.csv\")\n",
    "created_by_df"
   ]
  },
  {
   "cell_type": "code",
   "execution_count": 11,
   "id": "6bd0e1f7",
   "metadata": {},
   "outputs": [
    {
     "name": "stdout",
     "output_type": "stream",
     "text": [
      "<class 'pandas.core.frame.DataFrame'>\n",
      "RangeIndex: 31852 entries, 0 to 31851\n",
      "Data columns (total 2 columns):\n",
      " #   Column              Non-Null Count  Dtype \n",
      "---  ------              --------------  ----- \n",
      " 0   created_by_type_id  31852 non-null  int64 \n",
      " 1   created_by_name     31852 non-null  object\n",
      "dtypes: int64(1), object(1)\n",
      "memory usage: 497.8+ KB\n"
     ]
    }
   ],
   "source": [
    "created_by_df.info()"
   ]
  },
  {
   "cell_type": "code",
   "execution_count": 12,
   "id": "2c64af3f",
   "metadata": {},
   "outputs": [
    {
     "data": {
      "text/plain": [
       "created_by_type_id    0\n",
       "created_by_name       0\n",
       "dtype: int64"
      ]
     },
     "execution_count": 12,
     "metadata": {},
     "output_type": "execute_result"
    }
   ],
   "source": [
    "created_by_df.isnull().sum()"
   ]
  },
  {
   "cell_type": "markdown",
   "id": "a3d7829e",
   "metadata": {},
   "source": [
    "# created_by.csv"
   ]
  },
  {
   "cell_type": "markdown",
   "id": "cc157409",
   "metadata": {},
   "source": [
    "### Asocia id de la serie con id de creador de la serie"
   ]
  },
  {
   "cell_type": "code",
   "execution_count": 13,
   "id": "28e6c3ff",
   "metadata": {},
   "outputs": [
    {
     "data": {
      "text/html": [
       "<div>\n",
       "<style scoped>\n",
       "    .dataframe tbody tr th:only-of-type {\n",
       "        vertical-align: middle;\n",
       "    }\n",
       "\n",
       "    .dataframe tbody tr th {\n",
       "        vertical-align: top;\n",
       "    }\n",
       "\n",
       "    .dataframe thead th {\n",
       "        text-align: right;\n",
       "    }\n",
       "</style>\n",
       "<table border=\"1\" class=\"dataframe\">\n",
       "  <thead>\n",
       "    <tr style=\"text-align: right;\">\n",
       "      <th></th>\n",
       "      <th>show_id</th>\n",
       "      <th>created_by_type_id</th>\n",
       "    </tr>\n",
       "  </thead>\n",
       "  <tbody>\n",
       "    <tr>\n",
       "      <th>0</th>\n",
       "      <td>1399</td>\n",
       "      <td>24015</td>\n",
       "    </tr>\n",
       "    <tr>\n",
       "      <th>1</th>\n",
       "      <td>1399</td>\n",
       "      <td>627</td>\n",
       "    </tr>\n",
       "    <tr>\n",
       "      <th>2</th>\n",
       "      <td>71446</td>\n",
       "      <td>481</td>\n",
       "    </tr>\n",
       "    <tr>\n",
       "      <th>3</th>\n",
       "      <td>66732</td>\n",
       "      <td>13781</td>\n",
       "    </tr>\n",
       "    <tr>\n",
       "      <th>4</th>\n",
       "      <td>66732</td>\n",
       "      <td>3222</td>\n",
       "    </tr>\n",
       "    <tr>\n",
       "      <th>...</th>\n",
       "      <td>...</td>\n",
       "      <td>...</td>\n",
       "    </tr>\n",
       "    <tr>\n",
       "      <th>50511</th>\n",
       "      <td>240414</td>\n",
       "      <td>23777</td>\n",
       "    </tr>\n",
       "    <tr>\n",
       "      <th>50512</th>\n",
       "      <td>240422</td>\n",
       "      <td>6410</td>\n",
       "    </tr>\n",
       "    <tr>\n",
       "      <th>50513</th>\n",
       "      <td>240429</td>\n",
       "      <td>16183</td>\n",
       "    </tr>\n",
       "    <tr>\n",
       "      <th>50514</th>\n",
       "      <td>240429</td>\n",
       "      <td>7220</td>\n",
       "    </tr>\n",
       "    <tr>\n",
       "      <th>50515</th>\n",
       "      <td>240438</td>\n",
       "      <td>16213</td>\n",
       "    </tr>\n",
       "  </tbody>\n",
       "</table>\n",
       "<p>50516 rows × 2 columns</p>\n",
       "</div>"
      ],
      "text/plain": [
       "       show_id  created_by_type_id\n",
       "0         1399               24015\n",
       "1         1399                 627\n",
       "2        71446                 481\n",
       "3        66732               13781\n",
       "4        66732                3222\n",
       "...        ...                 ...\n",
       "50511   240414               23777\n",
       "50512   240422                6410\n",
       "50513   240429               16183\n",
       "50514   240429                7220\n",
       "50515   240438               16213\n",
       "\n",
       "[50516 rows x 2 columns]"
      ]
     },
     "execution_count": 13,
     "metadata": {},
     "output_type": "execute_result"
    }
   ],
   "source": [
    "created_by_df = pd.read_csv(\"csv/created_by.csv\")\n",
    "created_by_df"
   ]
  },
  {
   "cell_type": "code",
   "execution_count": 14,
   "id": "6116870b",
   "metadata": {},
   "outputs": [
    {
     "name": "stdout",
     "output_type": "stream",
     "text": [
      "<class 'pandas.core.frame.DataFrame'>\n",
      "RangeIndex: 50516 entries, 0 to 50515\n",
      "Data columns (total 2 columns):\n",
      " #   Column              Non-Null Count  Dtype\n",
      "---  ------              --------------  -----\n",
      " 0   show_id             50516 non-null  int64\n",
      " 1   created_by_type_id  50516 non-null  int64\n",
      "dtypes: int64(2)\n",
      "memory usage: 789.4 KB\n"
     ]
    }
   ],
   "source": [
    "created_by_df.info()"
   ]
  },
  {
   "cell_type": "code",
   "execution_count": 15,
   "id": "385cbc9d",
   "metadata": {},
   "outputs": [
    {
     "data": {
      "text/plain": [
       "show_id               0\n",
       "created_by_type_id    0\n",
       "dtype: int64"
      ]
     },
     "execution_count": 15,
     "metadata": {},
     "output_type": "execute_result"
    }
   ],
   "source": [
    "created_by_df.isnull().sum()"
   ]
  },
  {
   "cell_type": "markdown",
   "id": "49eb95ac",
   "metadata": {},
   "source": [
    "# genre_types.csv"
   ]
  },
  {
   "cell_type": "markdown",
   "id": "20b8bdba",
   "metadata": {},
   "source": [
    "### 20 géneros de series"
   ]
  },
  {
   "cell_type": "code",
   "execution_count": null,
   "id": "ec2ef300",
   "metadata": {},
   "outputs": [
    {
     "data": {
      "text/html": [
       "<div>\n",
       "<style scoped>\n",
       "    .dataframe tbody tr th:only-of-type {\n",
       "        vertical-align: middle;\n",
       "    }\n",
       "\n",
       "    .dataframe tbody tr th {\n",
       "        vertical-align: top;\n",
       "    }\n",
       "\n",
       "    .dataframe thead th {\n",
       "        text-align: right;\n",
       "    }\n",
       "</style>\n",
       "<table border=\"1\" class=\"dataframe\">\n",
       "  <thead>\n",
       "    <tr style=\"text-align: right;\">\n",
       "      <th></th>\n",
       "      <th>genre_type_id</th>\n",
       "      <th>genre_name</th>\n",
       "    </tr>\n",
       "  </thead>\n",
       "  <tbody>\n",
       "    <tr>\n",
       "      <th>0</th>\n",
       "      <td>1</td>\n",
       "      <td>Romance</td>\n",
       "    </tr>\n",
       "    <tr>\n",
       "      <th>1</th>\n",
       "      <td>2</td>\n",
       "      <td>Kids</td>\n",
       "    </tr>\n",
       "    <tr>\n",
       "      <th>2</th>\n",
       "      <td>3</td>\n",
       "      <td>Comedy</td>\n",
       "    </tr>\n",
       "    <tr>\n",
       "      <th>3</th>\n",
       "      <td>4</td>\n",
       "      <td>Crime</td>\n",
       "    </tr>\n",
       "    <tr>\n",
       "      <th>4</th>\n",
       "      <td>5</td>\n",
       "      <td>Musical</td>\n",
       "    </tr>\n",
       "    <tr>\n",
       "      <th>5</th>\n",
       "      <td>6</td>\n",
       "      <td>War &amp; Politics</td>\n",
       "    </tr>\n",
       "    <tr>\n",
       "      <th>6</th>\n",
       "      <td>7</td>\n",
       "      <td>Sci-Fi &amp; Fantasy</td>\n",
       "    </tr>\n",
       "    <tr>\n",
       "      <th>7</th>\n",
       "      <td>8</td>\n",
       "      <td>Soap</td>\n",
       "    </tr>\n",
       "    <tr>\n",
       "      <th>8</th>\n",
       "      <td>9</td>\n",
       "      <td>Western</td>\n",
       "    </tr>\n",
       "    <tr>\n",
       "      <th>9</th>\n",
       "      <td>10</td>\n",
       "      <td>History</td>\n",
       "    </tr>\n",
       "    <tr>\n",
       "      <th>10</th>\n",
       "      <td>11</td>\n",
       "      <td>Family</td>\n",
       "    </tr>\n",
       "    <tr>\n",
       "      <th>11</th>\n",
       "      <td>12</td>\n",
       "      <td>Drama</td>\n",
       "    </tr>\n",
       "    <tr>\n",
       "      <th>12</th>\n",
       "      <td>13</td>\n",
       "      <td>News</td>\n",
       "    </tr>\n",
       "    <tr>\n",
       "      <th>13</th>\n",
       "      <td>14</td>\n",
       "      <td>Music</td>\n",
       "    </tr>\n",
       "    <tr>\n",
       "      <th>14</th>\n",
       "      <td>15</td>\n",
       "      <td>Animation</td>\n",
       "    </tr>\n",
       "    <tr>\n",
       "      <th>15</th>\n",
       "      <td>16</td>\n",
       "      <td>Action &amp; Adventure</td>\n",
       "    </tr>\n",
       "    <tr>\n",
       "      <th>16</th>\n",
       "      <td>17</td>\n",
       "      <td>Documentary</td>\n",
       "    </tr>\n",
       "    <tr>\n",
       "      <th>17</th>\n",
       "      <td>18</td>\n",
       "      <td>Reality</td>\n",
       "    </tr>\n",
       "    <tr>\n",
       "      <th>18</th>\n",
       "      <td>19</td>\n",
       "      <td>Mystery</td>\n",
       "    </tr>\n",
       "    <tr>\n",
       "      <th>19</th>\n",
       "      <td>20</td>\n",
       "      <td>Talk</td>\n",
       "    </tr>\n",
       "  </tbody>\n",
       "</table>\n",
       "</div>"
      ],
      "text/plain": [
       "    genre_type_id          genre_name\n",
       "0               1             Romance\n",
       "1               2                Kids\n",
       "2               3              Comedy\n",
       "3               4               Crime\n",
       "4               5             Musical\n",
       "5               6      War & Politics\n",
       "6               7    Sci-Fi & Fantasy\n",
       "7               8                Soap\n",
       "8               9             Western\n",
       "9              10             History\n",
       "10             11              Family\n",
       "11             12               Drama\n",
       "12             13                News\n",
       "13             14               Music\n",
       "14             15           Animation\n",
       "15             16  Action & Adventure\n",
       "16             17         Documentary\n",
       "17             18             Reality\n",
       "18             19             Mystery\n",
       "19             20                Talk"
      ]
     },
     "execution_count": 18,
     "metadata": {},
     "output_type": "execute_result"
    }
   ],
   "source": [
    "genre_types_df = pd.read_csv(\"csv/genre_types.csv\")\n",
    "genre_types_df"
   ]
  },
  {
   "cell_type": "code",
   "execution_count": 19,
   "id": "60b3a9b1",
   "metadata": {},
   "outputs": [
    {
     "name": "stdout",
     "output_type": "stream",
     "text": [
      "<class 'pandas.core.frame.DataFrame'>\n",
      "RangeIndex: 20 entries, 0 to 19\n",
      "Data columns (total 2 columns):\n",
      " #   Column         Non-Null Count  Dtype \n",
      "---  ------         --------------  ----- \n",
      " 0   genre_type_id  20 non-null     int64 \n",
      " 1   genre_name     20 non-null     object\n",
      "dtypes: int64(1), object(1)\n",
      "memory usage: 452.0+ bytes\n"
     ]
    }
   ],
   "source": [
    "genre_types_df.info()"
   ]
  },
  {
   "cell_type": "code",
   "execution_count": 20,
   "id": "f4eeed86",
   "metadata": {},
   "outputs": [
    {
     "data": {
      "text/plain": [
       "genre_type_id    0\n",
       "genre_name       0\n",
       "dtype: int64"
      ]
     },
     "execution_count": 20,
     "metadata": {},
     "output_type": "execute_result"
    }
   ],
   "source": [
    "genre_types_df.isnull().sum()"
   ]
  },
  {
   "cell_type": "markdown",
   "id": "09e92243",
   "metadata": {},
   "source": [
    "# genres.csv"
   ]
  },
  {
   "cell_type": "markdown",
   "id": "0c77c919",
   "metadata": {},
   "source": [
    "### Asocia id de serie con id de género."
   ]
  },
  {
   "cell_type": "code",
   "execution_count": 22,
   "id": "26bd51ac",
   "metadata": {},
   "outputs": [
    {
     "data": {
      "text/html": [
       "<div>\n",
       "<style scoped>\n",
       "    .dataframe tbody tr th:only-of-type {\n",
       "        vertical-align: middle;\n",
       "    }\n",
       "\n",
       "    .dataframe tbody tr th {\n",
       "        vertical-align: top;\n",
       "    }\n",
       "\n",
       "    .dataframe thead th {\n",
       "        text-align: right;\n",
       "    }\n",
       "</style>\n",
       "<table border=\"1\" class=\"dataframe\">\n",
       "  <thead>\n",
       "    <tr style=\"text-align: right;\">\n",
       "      <th></th>\n",
       "      <th>show_id</th>\n",
       "      <th>genre_type_id</th>\n",
       "    </tr>\n",
       "  </thead>\n",
       "  <tbody>\n",
       "    <tr>\n",
       "      <th>0</th>\n",
       "      <td>1399</td>\n",
       "      <td>7</td>\n",
       "    </tr>\n",
       "    <tr>\n",
       "      <th>1</th>\n",
       "      <td>1399</td>\n",
       "      <td>12</td>\n",
       "    </tr>\n",
       "    <tr>\n",
       "      <th>2</th>\n",
       "      <td>1399</td>\n",
       "      <td>16</td>\n",
       "    </tr>\n",
       "    <tr>\n",
       "      <th>3</th>\n",
       "      <td>71446</td>\n",
       "      <td>4</td>\n",
       "    </tr>\n",
       "    <tr>\n",
       "      <th>4</th>\n",
       "      <td>71446</td>\n",
       "      <td>12</td>\n",
       "    </tr>\n",
       "    <tr>\n",
       "      <th>...</th>\n",
       "      <td>...</td>\n",
       "      <td>...</td>\n",
       "    </tr>\n",
       "    <tr>\n",
       "      <th>143706</th>\n",
       "      <td>240431</td>\n",
       "      <td>18</td>\n",
       "    </tr>\n",
       "    <tr>\n",
       "      <th>143707</th>\n",
       "      <td>240432</td>\n",
       "      <td>18</td>\n",
       "    </tr>\n",
       "    <tr>\n",
       "      <th>143708</th>\n",
       "      <td>240433</td>\n",
       "      <td>18</td>\n",
       "    </tr>\n",
       "    <tr>\n",
       "      <th>143709</th>\n",
       "      <td>240438</td>\n",
       "      <td>6</td>\n",
       "    </tr>\n",
       "    <tr>\n",
       "      <th>143710</th>\n",
       "      <td>240438</td>\n",
       "      <td>17</td>\n",
       "    </tr>\n",
       "  </tbody>\n",
       "</table>\n",
       "<p>143711 rows × 2 columns</p>\n",
       "</div>"
      ],
      "text/plain": [
       "        show_id  genre_type_id\n",
       "0          1399              7\n",
       "1          1399             12\n",
       "2          1399             16\n",
       "3         71446              4\n",
       "4         71446             12\n",
       "...         ...            ...\n",
       "143706   240431             18\n",
       "143707   240432             18\n",
       "143708   240433             18\n",
       "143709   240438              6\n",
       "143710   240438             17\n",
       "\n",
       "[143711 rows x 2 columns]"
      ]
     },
     "execution_count": 22,
     "metadata": {},
     "output_type": "execute_result"
    }
   ],
   "source": [
    "genres_df = pd.read_csv(\"csv/genres.csv\")\n",
    "genres_df"
   ]
  },
  {
   "cell_type": "code",
   "execution_count": 23,
   "id": "4e360e10",
   "metadata": {},
   "outputs": [
    {
     "name": "stdout",
     "output_type": "stream",
     "text": [
      "<class 'pandas.core.frame.DataFrame'>\n",
      "RangeIndex: 143711 entries, 0 to 143710\n",
      "Data columns (total 2 columns):\n",
      " #   Column         Non-Null Count   Dtype\n",
      "---  ------         --------------   -----\n",
      " 0   show_id        143711 non-null  int64\n",
      " 1   genre_type_id  143711 non-null  int64\n",
      "dtypes: int64(2)\n",
      "memory usage: 2.2 MB\n"
     ]
    }
   ],
   "source": [
    "genres_df.info()"
   ]
  },
  {
   "cell_type": "code",
   "execution_count": 24,
   "id": "3482b51a",
   "metadata": {},
   "outputs": [
    {
     "data": {
      "text/plain": [
       "show_id          0\n",
       "genre_type_id    0\n",
       "dtype: int64"
      ]
     },
     "execution_count": 24,
     "metadata": {},
     "output_type": "execute_result"
    }
   ],
   "source": [
    "genres_df.isnull().sum()"
   ]
  },
  {
   "cell_type": "markdown",
   "id": "2625af4d",
   "metadata": {},
   "source": [
    "# language_types.csv"
   ]
  },
  {
   "cell_type": "markdown",
   "id": "3d19f7a5",
   "metadata": {},
   "source": [
    "### 144 tipos de lenguajes"
   ]
  },
  {
   "cell_type": "code",
   "execution_count": 26,
   "id": "7b239d37",
   "metadata": {},
   "outputs": [
    {
     "data": {
      "text/html": [
       "<div>\n",
       "<style scoped>\n",
       "    .dataframe tbody tr th:only-of-type {\n",
       "        vertical-align: middle;\n",
       "    }\n",
       "\n",
       "    .dataframe tbody tr th {\n",
       "        vertical-align: top;\n",
       "    }\n",
       "\n",
       "    .dataframe thead th {\n",
       "        text-align: right;\n",
       "    }\n",
       "</style>\n",
       "<table border=\"1\" class=\"dataframe\">\n",
       "  <thead>\n",
       "    <tr style=\"text-align: right;\">\n",
       "      <th></th>\n",
       "      <th>language_type_id</th>\n",
       "      <th>language_name</th>\n",
       "    </tr>\n",
       "  </thead>\n",
       "  <tbody>\n",
       "    <tr>\n",
       "      <th>0</th>\n",
       "      <td>1</td>\n",
       "      <td>ko</td>\n",
       "    </tr>\n",
       "    <tr>\n",
       "      <th>1</th>\n",
       "      <td>2</td>\n",
       "      <td>tn</td>\n",
       "    </tr>\n",
       "    <tr>\n",
       "      <th>2</th>\n",
       "      <td>3</td>\n",
       "      <td>tt</td>\n",
       "    </tr>\n",
       "    <tr>\n",
       "      <th>3</th>\n",
       "      <td>4</td>\n",
       "      <td>sk</td>\n",
       "    </tr>\n",
       "    <tr>\n",
       "      <th>4</th>\n",
       "      <td>5</td>\n",
       "      <td>ru</td>\n",
       "    </tr>\n",
       "    <tr>\n",
       "      <th>...</th>\n",
       "      <td>...</td>\n",
       "      <td>...</td>\n",
       "    </tr>\n",
       "    <tr>\n",
       "      <th>138</th>\n",
       "      <td>139</td>\n",
       "      <td>fy</td>\n",
       "    </tr>\n",
       "    <tr>\n",
       "      <th>139</th>\n",
       "      <td>140</td>\n",
       "      <td>wa</td>\n",
       "    </tr>\n",
       "    <tr>\n",
       "      <th>140</th>\n",
       "      <td>141</td>\n",
       "      <td>sv</td>\n",
       "    </tr>\n",
       "    <tr>\n",
       "      <th>141</th>\n",
       "      <td>142</td>\n",
       "      <td>ro</td>\n",
       "    </tr>\n",
       "    <tr>\n",
       "      <th>142</th>\n",
       "      <td>143</td>\n",
       "      <td>el</td>\n",
       "    </tr>\n",
       "  </tbody>\n",
       "</table>\n",
       "<p>143 rows × 2 columns</p>\n",
       "</div>"
      ],
      "text/plain": [
       "     language_type_id language_name\n",
       "0                   1            ko\n",
       "1                   2            tn\n",
       "2                   3            tt\n",
       "3                   4            sk\n",
       "4                   5            ru\n",
       "..                ...           ...\n",
       "138               139            fy\n",
       "139               140            wa\n",
       "140               141            sv\n",
       "141               142            ro\n",
       "142               143            el\n",
       "\n",
       "[143 rows x 2 columns]"
      ]
     },
     "execution_count": 26,
     "metadata": {},
     "output_type": "execute_result"
    }
   ],
   "source": [
    "language_types_df = pd.read_csv(\"csv/language_types.csv\")\n",
    "language_types_df"
   ]
  },
  {
   "cell_type": "code",
   "execution_count": 27,
   "id": "54a71e65",
   "metadata": {},
   "outputs": [
    {
     "name": "stdout",
     "output_type": "stream",
     "text": [
      "<class 'pandas.core.frame.DataFrame'>\n",
      "RangeIndex: 143 entries, 0 to 142\n",
      "Data columns (total 2 columns):\n",
      " #   Column            Non-Null Count  Dtype \n",
      "---  ------            --------------  ----- \n",
      " 0   language_type_id  143 non-null    int64 \n",
      " 1   language_name     143 non-null    object\n",
      "dtypes: int64(1), object(1)\n",
      "memory usage: 2.4+ KB\n"
     ]
    }
   ],
   "source": [
    "language_types_df.info()"
   ]
  },
  {
   "cell_type": "code",
   "execution_count": 29,
   "id": "a2db9b2d",
   "metadata": {},
   "outputs": [
    {
     "data": {
      "text/plain": [
       "language_type_id    0\n",
       "language_name       0\n",
       "dtype: int64"
      ]
     },
     "execution_count": 29,
     "metadata": {},
     "output_type": "execute_result"
    }
   ],
   "source": [
    "language_types_df.isnull().sum()"
   ]
  },
  {
   "cell_type": "markdown",
   "id": "1560b54b",
   "metadata": {},
   "source": [
    "# languages.csv"
   ]
  },
  {
   "cell_type": "markdown",
   "id": "d1ae0210",
   "metadata": {},
   "source": [
    "### Asocia id de serie con id de lenguaje"
   ]
  },
  {
   "cell_type": "code",
   "execution_count": 31,
   "id": "1df94062",
   "metadata": {},
   "outputs": [
    {
     "data": {
      "text/html": [
       "<div>\n",
       "<style scoped>\n",
       "    .dataframe tbody tr th:only-of-type {\n",
       "        vertical-align: middle;\n",
       "    }\n",
       "\n",
       "    .dataframe tbody tr th {\n",
       "        vertical-align: top;\n",
       "    }\n",
       "\n",
       "    .dataframe thead th {\n",
       "        text-align: right;\n",
       "    }\n",
       "</style>\n",
       "<table border=\"1\" class=\"dataframe\">\n",
       "  <thead>\n",
       "    <tr style=\"text-align: right;\">\n",
       "      <th></th>\n",
       "      <th>show_id</th>\n",
       "      <th>language_type_id</th>\n",
       "    </tr>\n",
       "  </thead>\n",
       "  <tbody>\n",
       "    <tr>\n",
       "      <th>0</th>\n",
       "      <td>1399</td>\n",
       "      <td>66</td>\n",
       "    </tr>\n",
       "    <tr>\n",
       "      <th>1</th>\n",
       "      <td>71446</td>\n",
       "      <td>121</td>\n",
       "    </tr>\n",
       "    <tr>\n",
       "      <th>2</th>\n",
       "      <td>66732</td>\n",
       "      <td>66</td>\n",
       "    </tr>\n",
       "    <tr>\n",
       "      <th>3</th>\n",
       "      <td>1402</td>\n",
       "      <td>66</td>\n",
       "    </tr>\n",
       "    <tr>\n",
       "      <th>4</th>\n",
       "      <td>63174</td>\n",
       "      <td>66</td>\n",
       "    </tr>\n",
       "    <tr>\n",
       "      <th>...</th>\n",
       "      <td>...</td>\n",
       "      <td>...</td>\n",
       "    </tr>\n",
       "    <tr>\n",
       "      <th>113264</th>\n",
       "      <td>240432</td>\n",
       "      <td>121</td>\n",
       "    </tr>\n",
       "    <tr>\n",
       "      <th>113265</th>\n",
       "      <td>240433</td>\n",
       "      <td>121</td>\n",
       "    </tr>\n",
       "    <tr>\n",
       "      <th>113266</th>\n",
       "      <td>240436</td>\n",
       "      <td>66</td>\n",
       "    </tr>\n",
       "    <tr>\n",
       "      <th>113267</th>\n",
       "      <td>240437</td>\n",
       "      <td>80</td>\n",
       "    </tr>\n",
       "    <tr>\n",
       "      <th>113268</th>\n",
       "      <td>240438</td>\n",
       "      <td>66</td>\n",
       "    </tr>\n",
       "  </tbody>\n",
       "</table>\n",
       "<p>113269 rows × 2 columns</p>\n",
       "</div>"
      ],
      "text/plain": [
       "        show_id  language_type_id\n",
       "0          1399                66\n",
       "1         71446               121\n",
       "2         66732                66\n",
       "3          1402                66\n",
       "4         63174                66\n",
       "...         ...               ...\n",
       "113264   240432               121\n",
       "113265   240433               121\n",
       "113266   240436                66\n",
       "113267   240437                80\n",
       "113268   240438                66\n",
       "\n",
       "[113269 rows x 2 columns]"
      ]
     },
     "execution_count": 31,
     "metadata": {},
     "output_type": "execute_result"
    }
   ],
   "source": [
    "languages_df = pd.read_csv(\"csv/languages.csv\")\n",
    "languages_df"
   ]
  },
  {
   "cell_type": "code",
   "execution_count": 32,
   "id": "5c9c80e4",
   "metadata": {},
   "outputs": [
    {
     "name": "stdout",
     "output_type": "stream",
     "text": [
      "<class 'pandas.core.frame.DataFrame'>\n",
      "RangeIndex: 113269 entries, 0 to 113268\n",
      "Data columns (total 2 columns):\n",
      " #   Column            Non-Null Count   Dtype\n",
      "---  ------            --------------   -----\n",
      " 0   show_id           113269 non-null  int64\n",
      " 1   language_type_id  113269 non-null  int64\n",
      "dtypes: int64(2)\n",
      "memory usage: 1.7 MB\n"
     ]
    }
   ],
   "source": [
    "languages_df.info()"
   ]
  },
  {
   "cell_type": "code",
   "execution_count": 33,
   "id": "6ebe3932",
   "metadata": {},
   "outputs": [
    {
     "data": {
      "text/plain": [
       "show_id             0\n",
       "language_type_id    0\n",
       "dtype: int64"
      ]
     },
     "execution_count": 33,
     "metadata": {},
     "output_type": "execute_result"
    }
   ],
   "source": [
    "languages_df.isnull().sum()"
   ]
  },
  {
   "cell_type": "markdown",
   "id": "182ab94b",
   "metadata": {},
   "source": [
    "# link_types.csv"
   ]
  },
  {
   "cell_type": "markdown",
   "id": "2d1f3819",
   "metadata": {},
   "source": [
    "### 3 tipos de links:\n",
    "\n",
    "- homepage: página para ver la serie.\n",
    "- backdrop_path: capturas de partes del show.\n",
    "- poster_path: poster de la serie."
   ]
  },
  {
   "cell_type": "code",
   "execution_count": 35,
   "id": "769d6d7a",
   "metadata": {},
   "outputs": [
    {
     "data": {
      "text/html": [
       "<div>\n",
       "<style scoped>\n",
       "    .dataframe tbody tr th:only-of-type {\n",
       "        vertical-align: middle;\n",
       "    }\n",
       "\n",
       "    .dataframe tbody tr th {\n",
       "        vertical-align: top;\n",
       "    }\n",
       "\n",
       "    .dataframe thead th {\n",
       "        text-align: right;\n",
       "    }\n",
       "</style>\n",
       "<table border=\"1\" class=\"dataframe\">\n",
       "  <thead>\n",
       "    <tr style=\"text-align: right;\">\n",
       "      <th></th>\n",
       "      <th>link_type_id</th>\n",
       "      <th>link_type</th>\n",
       "    </tr>\n",
       "  </thead>\n",
       "  <tbody>\n",
       "    <tr>\n",
       "      <th>0</th>\n",
       "      <td>1</td>\n",
       "      <td>homepage</td>\n",
       "    </tr>\n",
       "    <tr>\n",
       "      <th>1</th>\n",
       "      <td>2</td>\n",
       "      <td>backdrop_path</td>\n",
       "    </tr>\n",
       "    <tr>\n",
       "      <th>2</th>\n",
       "      <td>3</td>\n",
       "      <td>poster_path</td>\n",
       "    </tr>\n",
       "  </tbody>\n",
       "</table>\n",
       "</div>"
      ],
      "text/plain": [
       "   link_type_id      link_type\n",
       "0             1       homepage\n",
       "1             2  backdrop_path\n",
       "2             3    poster_path"
      ]
     },
     "execution_count": 35,
     "metadata": {},
     "output_type": "execute_result"
    }
   ],
   "source": [
    "link_types_df = pd.read_csv(\"csv/link_types.csv\")\n",
    "link_types_df"
   ]
  },
  {
   "cell_type": "code",
   "execution_count": 36,
   "id": "2af33b2e",
   "metadata": {},
   "outputs": [
    {
     "name": "stdout",
     "output_type": "stream",
     "text": [
      "<class 'pandas.core.frame.DataFrame'>\n",
      "RangeIndex: 3 entries, 0 to 2\n",
      "Data columns (total 2 columns):\n",
      " #   Column        Non-Null Count  Dtype \n",
      "---  ------        --------------  ----- \n",
      " 0   link_type_id  3 non-null      int64 \n",
      " 1   link_type     3 non-null      object\n",
      "dtypes: int64(1), object(1)\n",
      "memory usage: 180.0+ bytes\n"
     ]
    }
   ],
   "source": [
    "link_types_df.info()"
   ]
  },
  {
   "cell_type": "code",
   "execution_count": 37,
   "id": "001a596b",
   "metadata": {},
   "outputs": [
    {
     "data": {
      "text/plain": [
       "link_type_id    0\n",
       "link_type       0\n",
       "dtype: int64"
      ]
     },
     "execution_count": 37,
     "metadata": {},
     "output_type": "execute_result"
    }
   ],
   "source": [
    "link_types_df.isnull().sum()"
   ]
  },
  {
   "cell_type": "markdown",
   "id": "2ebfd9b8",
   "metadata": {},
   "source": [
    "# links.csv"
   ]
  },
  {
   "cell_type": "markdown",
   "id": "c5a18fc0",
   "metadata": {},
   "source": [
    "### Asocia id de link, tipo de link y el link"
   ]
  },
  {
   "cell_type": "code",
   "execution_count": 39,
   "id": "fbf4009d",
   "metadata": {},
   "outputs": [
    {
     "data": {
      "text/html": [
       "<div>\n",
       "<style scoped>\n",
       "    .dataframe tbody tr th:only-of-type {\n",
       "        vertical-align: middle;\n",
       "    }\n",
       "\n",
       "    .dataframe tbody tr th {\n",
       "        vertical-align: top;\n",
       "    }\n",
       "\n",
       "    .dataframe thead th {\n",
       "        text-align: right;\n",
       "    }\n",
       "</style>\n",
       "<table border=\"1\" class=\"dataframe\">\n",
       "  <thead>\n",
       "    <tr style=\"text-align: right;\">\n",
       "      <th></th>\n",
       "      <th>link_type_id</th>\n",
       "      <th>show_id</th>\n",
       "      <th>link</th>\n",
       "    </tr>\n",
       "  </thead>\n",
       "  <tbody>\n",
       "    <tr>\n",
       "      <th>0</th>\n",
       "      <td>1</td>\n",
       "      <td>1399</td>\n",
       "      <td>http://www.hbo.com/game-of-thrones</td>\n",
       "    </tr>\n",
       "    <tr>\n",
       "      <th>1</th>\n",
       "      <td>1</td>\n",
       "      <td>71446</td>\n",
       "      <td>https://www.netflix.com/title/80192098</td>\n",
       "    </tr>\n",
       "    <tr>\n",
       "      <th>2</th>\n",
       "      <td>1</td>\n",
       "      <td>66732</td>\n",
       "      <td>https://www.netflix.com/title/80057281</td>\n",
       "    </tr>\n",
       "    <tr>\n",
       "      <th>3</th>\n",
       "      <td>1</td>\n",
       "      <td>1402</td>\n",
       "      <td>http://www.amc.com/shows/the-walking-dead--100...</td>\n",
       "    </tr>\n",
       "    <tr>\n",
       "      <th>4</th>\n",
       "      <td>1</td>\n",
       "      <td>63174</td>\n",
       "      <td>https://www.netflix.com/title/80057918</td>\n",
       "    </tr>\n",
       "    <tr>\n",
       "      <th>...</th>\n",
       "      <td>...</td>\n",
       "      <td>...</td>\n",
       "      <td>...</td>\n",
       "    </tr>\n",
       "    <tr>\n",
       "      <th>230071</th>\n",
       "      <td>3</td>\n",
       "      <td>240428</td>\n",
       "      <td>/p3PEOUFwJucQUcwYQ1KhHSwWGcx.jpg</td>\n",
       "    </tr>\n",
       "    <tr>\n",
       "      <th>230072</th>\n",
       "      <td>3</td>\n",
       "      <td>240430</td>\n",
       "      <td>/iBFaHfs4DRAl8mu5Ecgj1905wo5.jpg</td>\n",
       "    </tr>\n",
       "    <tr>\n",
       "      <th>230073</th>\n",
       "      <td>3</td>\n",
       "      <td>240434</td>\n",
       "      <td>/sjXnlXgBi0z5f4Yw4SfHB3TQUBz.jpg</td>\n",
       "    </tr>\n",
       "    <tr>\n",
       "      <th>230074</th>\n",
       "      <td>3</td>\n",
       "      <td>240436</td>\n",
       "      <td>/VnAfudAaWjxrY8nxpHkgwSTqQ8.jpg</td>\n",
       "    </tr>\n",
       "    <tr>\n",
       "      <th>230075</th>\n",
       "      <td>3</td>\n",
       "      <td>240438</td>\n",
       "      <td>/8PSPrI5DFvO1x2AFg2ybUwyTYoc.jpg</td>\n",
       "    </tr>\n",
       "  </tbody>\n",
       "</table>\n",
       "<p>230076 rows × 3 columns</p>\n",
       "</div>"
      ],
      "text/plain": [
       "        link_type_id  show_id  \\\n",
       "0                  1     1399   \n",
       "1                  1    71446   \n",
       "2                  1    66732   \n",
       "3                  1     1402   \n",
       "4                  1    63174   \n",
       "...              ...      ...   \n",
       "230071             3   240428   \n",
       "230072             3   240430   \n",
       "230073             3   240434   \n",
       "230074             3   240436   \n",
       "230075             3   240438   \n",
       "\n",
       "                                                     link  \n",
       "0                      http://www.hbo.com/game-of-thrones  \n",
       "1                  https://www.netflix.com/title/80192098  \n",
       "2                  https://www.netflix.com/title/80057281  \n",
       "3       http://www.amc.com/shows/the-walking-dead--100...  \n",
       "4                  https://www.netflix.com/title/80057918  \n",
       "...                                                   ...  \n",
       "230071                   /p3PEOUFwJucQUcwYQ1KhHSwWGcx.jpg  \n",
       "230072                   /iBFaHfs4DRAl8mu5Ecgj1905wo5.jpg  \n",
       "230073                   /sjXnlXgBi0z5f4Yw4SfHB3TQUBz.jpg  \n",
       "230074                    /VnAfudAaWjxrY8nxpHkgwSTqQ8.jpg  \n",
       "230075                   /8PSPrI5DFvO1x2AFg2ybUwyTYoc.jpg  \n",
       "\n",
       "[230076 rows x 3 columns]"
      ]
     },
     "execution_count": 39,
     "metadata": {},
     "output_type": "execute_result"
    }
   ],
   "source": [
    "links_df = pd.read_csv(\"csv/links.csv\")\n",
    "links_df"
   ]
  },
  {
   "cell_type": "code",
   "execution_count": 40,
   "id": "a9fb443d",
   "metadata": {},
   "outputs": [
    {
     "name": "stdout",
     "output_type": "stream",
     "text": [
      "<class 'pandas.core.frame.DataFrame'>\n",
      "RangeIndex: 230076 entries, 0 to 230075\n",
      "Data columns (total 3 columns):\n",
      " #   Column        Non-Null Count   Dtype \n",
      "---  ------        --------------   ----- \n",
      " 0   link_type_id  230076 non-null  int64 \n",
      " 1   show_id       230076 non-null  int64 \n",
      " 2   link          230076 non-null  object\n",
      "dtypes: int64(2), object(1)\n",
      "memory usage: 5.3+ MB\n"
     ]
    }
   ],
   "source": [
    "links_df.info()"
   ]
  },
  {
   "cell_type": "code",
   "execution_count": 41,
   "id": "1da50ac6",
   "metadata": {},
   "outputs": [
    {
     "data": {
      "text/plain": [
       "link_type_id    0\n",
       "show_id         0\n",
       "link            0\n",
       "dtype: int64"
      ]
     },
     "execution_count": 41,
     "metadata": {},
     "output_type": "execute_result"
    }
   ],
   "source": [
    "links_df.isnull().sum()"
   ]
  },
  {
   "cell_type": "markdown",
   "id": "0632a9f9",
   "metadata": {},
   "source": [
    "# network_types.csv"
   ]
  },
  {
   "cell_type": "markdown",
   "id": "c5d4af82",
   "metadata": {},
   "source": [
    "### Nombres de las networks (son muchas)"
   ]
  },
  {
   "cell_type": "code",
   "execution_count": 43,
   "id": "618daad8",
   "metadata": {},
   "outputs": [
    {
     "data": {
      "text/html": [
       "<div>\n",
       "<style scoped>\n",
       "    .dataframe tbody tr th:only-of-type {\n",
       "        vertical-align: middle;\n",
       "    }\n",
       "\n",
       "    .dataframe tbody tr th {\n",
       "        vertical-align: top;\n",
       "    }\n",
       "\n",
       "    .dataframe thead th {\n",
       "        text-align: right;\n",
       "    }\n",
       "</style>\n",
       "<table border=\"1\" class=\"dataframe\">\n",
       "  <thead>\n",
       "    <tr style=\"text-align: right;\">\n",
       "      <th></th>\n",
       "      <th>network_type_id</th>\n",
       "      <th>network_name</th>\n",
       "    </tr>\n",
       "  </thead>\n",
       "  <tbody>\n",
       "    <tr>\n",
       "      <th>0</th>\n",
       "      <td>1</td>\n",
       "      <td>SCTV</td>\n",
       "    </tr>\n",
       "    <tr>\n",
       "      <th>1</th>\n",
       "      <td>2</td>\n",
       "      <td>Facebook</td>\n",
       "    </tr>\n",
       "    <tr>\n",
       "      <th>2</th>\n",
       "      <td>3</td>\n",
       "      <td>NT1</td>\n",
       "    </tr>\n",
       "    <tr>\n",
       "      <th>3</th>\n",
       "      <td>4</td>\n",
       "      <td>SHO.com</td>\n",
       "    </tr>\n",
       "    <tr>\n",
       "      <th>4</th>\n",
       "      <td>5</td>\n",
       "      <td>Sparkk tv</td>\n",
       "    </tr>\n",
       "    <tr>\n",
       "      <th>...</th>\n",
       "      <td>...</td>\n",
       "      <td>...</td>\n",
       "    </tr>\n",
       "    <tr>\n",
       "      <th>3393</th>\n",
       "      <td>3394</td>\n",
       "      <td>RMC Sport</td>\n",
       "    </tr>\n",
       "    <tr>\n",
       "      <th>3394</th>\n",
       "      <td>3395</td>\n",
       "      <td>BONGO</td>\n",
       "    </tr>\n",
       "    <tr>\n",
       "      <th>3395</th>\n",
       "      <td>3396</td>\n",
       "      <td>sky Travel</td>\n",
       "    </tr>\n",
       "    <tr>\n",
       "      <th>3396</th>\n",
       "      <td>3397</td>\n",
       "      <td>Kumamoto Asahi Broadcasting</td>\n",
       "    </tr>\n",
       "    <tr>\n",
       "      <th>3397</th>\n",
       "      <td>3398</td>\n",
       "      <td>BluTV</td>\n",
       "    </tr>\n",
       "  </tbody>\n",
       "</table>\n",
       "<p>3398 rows × 2 columns</p>\n",
       "</div>"
      ],
      "text/plain": [
       "      network_type_id                 network_name\n",
       "0                   1                         SCTV\n",
       "1                   2                     Facebook\n",
       "2                   3                          NT1\n",
       "3                   4                      SHO.com\n",
       "4                   5                    Sparkk tv\n",
       "...               ...                          ...\n",
       "3393             3394                    RMC Sport\n",
       "3394             3395                        BONGO\n",
       "3395             3396                   sky Travel\n",
       "3396             3397  Kumamoto Asahi Broadcasting\n",
       "3397             3398                        BluTV\n",
       "\n",
       "[3398 rows x 2 columns]"
      ]
     },
     "execution_count": 43,
     "metadata": {},
     "output_type": "execute_result"
    }
   ],
   "source": [
    "network_types_df = pd.read_csv(\"csv/network_types.csv\")\n",
    "network_types_df"
   ]
  },
  {
   "cell_type": "code",
   "execution_count": 44,
   "id": "aeec8d38",
   "metadata": {},
   "outputs": [
    {
     "name": "stdout",
     "output_type": "stream",
     "text": [
      "<class 'pandas.core.frame.DataFrame'>\n",
      "RangeIndex: 3398 entries, 0 to 3397\n",
      "Data columns (total 2 columns):\n",
      " #   Column           Non-Null Count  Dtype \n",
      "---  ------           --------------  ----- \n",
      " 0   network_type_id  3398 non-null   int64 \n",
      " 1   network_name     3398 non-null   object\n",
      "dtypes: int64(1), object(1)\n",
      "memory usage: 53.2+ KB\n"
     ]
    }
   ],
   "source": [
    "network_types_df.info()"
   ]
  },
  {
   "cell_type": "code",
   "execution_count": 45,
   "id": "03eff38f",
   "metadata": {},
   "outputs": [
    {
     "data": {
      "text/plain": [
       "network_type_id    0\n",
       "network_name       0\n",
       "dtype: int64"
      ]
     },
     "execution_count": 45,
     "metadata": {},
     "output_type": "execute_result"
    }
   ],
   "source": [
    "network_types_df.isnull().sum()"
   ]
  },
  {
   "cell_type": "markdown",
   "id": "58998f5c",
   "metadata": {},
   "source": [
    "# networks.csv"
   ]
  },
  {
   "cell_type": "markdown",
   "id": "787e5c64",
   "metadata": {},
   "source": [
    "### Asocia id de serie con id de network"
   ]
  },
  {
   "cell_type": "code",
   "execution_count": 46,
   "id": "e89ec463",
   "metadata": {},
   "outputs": [
    {
     "data": {
      "text/html": [
       "<div>\n",
       "<style scoped>\n",
       "    .dataframe tbody tr th:only-of-type {\n",
       "        vertical-align: middle;\n",
       "    }\n",
       "\n",
       "    .dataframe tbody tr th {\n",
       "        vertical-align: top;\n",
       "    }\n",
       "\n",
       "    .dataframe thead th {\n",
       "        text-align: right;\n",
       "    }\n",
       "</style>\n",
       "<table border=\"1\" class=\"dataframe\">\n",
       "  <thead>\n",
       "    <tr style=\"text-align: right;\">\n",
       "      <th></th>\n",
       "      <th>show_id</th>\n",
       "      <th>network_type_id</th>\n",
       "    </tr>\n",
       "  </thead>\n",
       "  <tbody>\n",
       "    <tr>\n",
       "      <th>0</th>\n",
       "      <td>1399</td>\n",
       "      <td>2321</td>\n",
       "    </tr>\n",
       "    <tr>\n",
       "      <th>1</th>\n",
       "      <td>71446</td>\n",
       "      <td>2847</td>\n",
       "    </tr>\n",
       "    <tr>\n",
       "      <th>2</th>\n",
       "      <td>71446</td>\n",
       "      <td>2111</td>\n",
       "    </tr>\n",
       "    <tr>\n",
       "      <th>3</th>\n",
       "      <td>66732</td>\n",
       "      <td>2847</td>\n",
       "    </tr>\n",
       "    <tr>\n",
       "      <th>4</th>\n",
       "      <td>1402</td>\n",
       "      <td>2678</td>\n",
       "    </tr>\n",
       "    <tr>\n",
       "      <th>...</th>\n",
       "      <td>...</td>\n",
       "      <td>...</td>\n",
       "    </tr>\n",
       "    <tr>\n",
       "      <th>108290</th>\n",
       "      <td>241299</td>\n",
       "      <td>796</td>\n",
       "    </tr>\n",
       "    <tr>\n",
       "      <th>108291</th>\n",
       "      <td>240431</td>\n",
       "      <td>738</td>\n",
       "    </tr>\n",
       "    <tr>\n",
       "      <th>108292</th>\n",
       "      <td>240432</td>\n",
       "      <td>738</td>\n",
       "    </tr>\n",
       "    <tr>\n",
       "      <th>108293</th>\n",
       "      <td>240433</td>\n",
       "      <td>738</td>\n",
       "    </tr>\n",
       "    <tr>\n",
       "      <th>108294</th>\n",
       "      <td>240437</td>\n",
       "      <td>2719</td>\n",
       "    </tr>\n",
       "  </tbody>\n",
       "</table>\n",
       "<p>108295 rows × 2 columns</p>\n",
       "</div>"
      ],
      "text/plain": [
       "        show_id  network_type_id\n",
       "0          1399             2321\n",
       "1         71446             2847\n",
       "2         71446             2111\n",
       "3         66732             2847\n",
       "4          1402             2678\n",
       "...         ...              ...\n",
       "108290   241299              796\n",
       "108291   240431              738\n",
       "108292   240432              738\n",
       "108293   240433              738\n",
       "108294   240437             2719\n",
       "\n",
       "[108295 rows x 2 columns]"
      ]
     },
     "execution_count": 46,
     "metadata": {},
     "output_type": "execute_result"
    }
   ],
   "source": [
    "networks_csv = pd.read_csv(\"csv/networks.csv\")\n",
    "networks_csv"
   ]
  },
  {
   "cell_type": "code",
   "execution_count": 47,
   "id": "276674fd",
   "metadata": {},
   "outputs": [
    {
     "name": "stdout",
     "output_type": "stream",
     "text": [
      "<class 'pandas.core.frame.DataFrame'>\n",
      "RangeIndex: 108295 entries, 0 to 108294\n",
      "Data columns (total 2 columns):\n",
      " #   Column           Non-Null Count   Dtype\n",
      "---  ------           --------------   -----\n",
      " 0   show_id          108295 non-null  int64\n",
      " 1   network_type_id  108295 non-null  int64\n",
      "dtypes: int64(2)\n",
      "memory usage: 1.7 MB\n"
     ]
    }
   ],
   "source": [
    "networks_csv.info()"
   ]
  },
  {
   "cell_type": "code",
   "execution_count": 48,
   "id": "6a7fbb47",
   "metadata": {},
   "outputs": [
    {
     "data": {
      "text/plain": [
       "show_id            0\n",
       "network_type_id    0\n",
       "dtype: int64"
      ]
     },
     "execution_count": 48,
     "metadata": {},
     "output_type": "execute_result"
    }
   ],
   "source": [
    "networks_csv.isnull().sum()"
   ]
  },
  {
   "cell_type": "markdown",
   "id": "b89283d8",
   "metadata": {},
   "source": [
    "# origin_country_types.csv"
   ]
  },
  {
   "cell_type": "markdown",
   "id": "53e2e547",
   "metadata": {},
   "source": [
    "### Código dos letras del país de origen de la serie (vendría bien poner el nombre completo)"
   ]
  },
  {
   "cell_type": "code",
   "execution_count": 49,
   "id": "acd2eb74",
   "metadata": {},
   "outputs": [
    {
     "data": {
      "text/html": [
       "<div>\n",
       "<style scoped>\n",
       "    .dataframe tbody tr th:only-of-type {\n",
       "        vertical-align: middle;\n",
       "    }\n",
       "\n",
       "    .dataframe tbody tr th {\n",
       "        vertical-align: top;\n",
       "    }\n",
       "\n",
       "    .dataframe thead th {\n",
       "        text-align: right;\n",
       "    }\n",
       "</style>\n",
       "<table border=\"1\" class=\"dataframe\">\n",
       "  <thead>\n",
       "    <tr style=\"text-align: right;\">\n",
       "      <th></th>\n",
       "      <th>origin_country_type_id</th>\n",
       "      <th>origin_country_name</th>\n",
       "    </tr>\n",
       "  </thead>\n",
       "  <tbody>\n",
       "    <tr>\n",
       "      <th>0</th>\n",
       "      <td>1</td>\n",
       "      <td>PL</td>\n",
       "    </tr>\n",
       "    <tr>\n",
       "      <th>1</th>\n",
       "      <td>2</td>\n",
       "      <td>MP</td>\n",
       "    </tr>\n",
       "    <tr>\n",
       "      <th>2</th>\n",
       "      <td>3</td>\n",
       "      <td>UG</td>\n",
       "    </tr>\n",
       "    <tr>\n",
       "      <th>3</th>\n",
       "      <td>4</td>\n",
       "      <td>FJ</td>\n",
       "    </tr>\n",
       "    <tr>\n",
       "      <th>4</th>\n",
       "      <td>5</td>\n",
       "      <td>BS</td>\n",
       "    </tr>\n",
       "    <tr>\n",
       "      <th>...</th>\n",
       "      <td>...</td>\n",
       "      <td>...</td>\n",
       "    </tr>\n",
       "    <tr>\n",
       "      <th>155</th>\n",
       "      <td>156</td>\n",
       "      <td>ME</td>\n",
       "    </tr>\n",
       "    <tr>\n",
       "      <th>156</th>\n",
       "      <td>157</td>\n",
       "      <td>BZ</td>\n",
       "    </tr>\n",
       "    <tr>\n",
       "      <th>157</th>\n",
       "      <td>158</td>\n",
       "      <td>KW</td>\n",
       "    </tr>\n",
       "    <tr>\n",
       "      <th>158</th>\n",
       "      <td>159</td>\n",
       "      <td>CA</td>\n",
       "    </tr>\n",
       "    <tr>\n",
       "      <th>159</th>\n",
       "      <td>160</td>\n",
       "      <td>ID</td>\n",
       "    </tr>\n",
       "  </tbody>\n",
       "</table>\n",
       "<p>160 rows × 2 columns</p>\n",
       "</div>"
      ],
      "text/plain": [
       "     origin_country_type_id origin_country_name\n",
       "0                         1                  PL\n",
       "1                         2                  MP\n",
       "2                         3                  UG\n",
       "3                         4                  FJ\n",
       "4                         5                  BS\n",
       "..                      ...                 ...\n",
       "155                     156                  ME\n",
       "156                     157                  BZ\n",
       "157                     158                  KW\n",
       "158                     159                  CA\n",
       "159                     160                  ID\n",
       "\n",
       "[160 rows x 2 columns]"
      ]
     },
     "execution_count": 49,
     "metadata": {},
     "output_type": "execute_result"
    }
   ],
   "source": [
    "origin_country_types_df = pd.read_csv(\"csv/origin_country_types.csv\")\n",
    "origin_country_types_df"
   ]
  },
  {
   "cell_type": "code",
   "execution_count": 50,
   "id": "f26423e3",
   "metadata": {},
   "outputs": [
    {
     "name": "stdout",
     "output_type": "stream",
     "text": [
      "<class 'pandas.core.frame.DataFrame'>\n",
      "RangeIndex: 160 entries, 0 to 159\n",
      "Data columns (total 2 columns):\n",
      " #   Column                  Non-Null Count  Dtype \n",
      "---  ------                  --------------  ----- \n",
      " 0   origin_country_type_id  160 non-null    int64 \n",
      " 1   origin_country_name     160 non-null    object\n",
      "dtypes: int64(1), object(1)\n",
      "memory usage: 2.6+ KB\n"
     ]
    }
   ],
   "source": [
    "origin_country_types_df.info()"
   ]
  },
  {
   "cell_type": "code",
   "execution_count": 51,
   "id": "9e692f0d",
   "metadata": {},
   "outputs": [
    {
     "data": {
      "text/plain": [
       "origin_country_type_id    0\n",
       "origin_country_name       0\n",
       "dtype: int64"
      ]
     },
     "execution_count": 51,
     "metadata": {},
     "output_type": "execute_result"
    }
   ],
   "source": [
    "origin_country_types_df.isnull().sum()"
   ]
  },
  {
   "cell_type": "markdown",
   "id": "ee9da984",
   "metadata": {},
   "source": [
    "# production_company_types.csv"
   ]
  },
  {
   "cell_type": "markdown",
   "id": "7def9611",
   "metadata": {},
   "source": [
    "### Nombres de las compañías productoras"
   ]
  },
  {
   "cell_type": "code",
   "execution_count": 56,
   "id": "b8d363d4",
   "metadata": {},
   "outputs": [
    {
     "data": {
      "text/html": [
       "<div>\n",
       "<style scoped>\n",
       "    .dataframe tbody tr th:only-of-type {\n",
       "        vertical-align: middle;\n",
       "    }\n",
       "\n",
       "    .dataframe tbody tr th {\n",
       "        vertical-align: top;\n",
       "    }\n",
       "\n",
       "    .dataframe thead th {\n",
       "        text-align: right;\n",
       "    }\n",
       "</style>\n",
       "<table border=\"1\" class=\"dataframe\">\n",
       "  <thead>\n",
       "    <tr style=\"text-align: right;\">\n",
       "      <th></th>\n",
       "      <th>production_company_type_id</th>\n",
       "      <th>production_company_name</th>\n",
       "    </tr>\n",
       "  </thead>\n",
       "  <tbody>\n",
       "    <tr>\n",
       "      <th>0</th>\n",
       "      <td>1</td>\n",
       "      <td>Malcolm Enterprises</td>\n",
       "    </tr>\n",
       "    <tr>\n",
       "      <th>1</th>\n",
       "      <td>2</td>\n",
       "      <td>Felix Culpa</td>\n",
       "    </tr>\n",
       "    <tr>\n",
       "      <th>2</th>\n",
       "      <td>3</td>\n",
       "      <td>Mig Beats Sdn. Bhd</td>\n",
       "    </tr>\n",
       "    <tr>\n",
       "      <th>3</th>\n",
       "      <td>4</td>\n",
       "      <td>Ebru TV</td>\n",
       "    </tr>\n",
       "    <tr>\n",
       "      <th>4</th>\n",
       "      <td>5</td>\n",
       "      <td>Farmhouse Productions</td>\n",
       "    </tr>\n",
       "    <tr>\n",
       "      <th>...</th>\n",
       "      <td>...</td>\n",
       "      <td>...</td>\n",
       "    </tr>\n",
       "    <tr>\n",
       "      <th>21631</th>\n",
       "      <td>21632</td>\n",
       "      <td>Ovation Entertainment</td>\n",
       "    </tr>\n",
       "    <tr>\n",
       "      <th>21632</th>\n",
       "      <td>21633</td>\n",
       "      <td>TV2</td>\n",
       "    </tr>\n",
       "    <tr>\n",
       "      <th>21633</th>\n",
       "      <td>21634</td>\n",
       "      <td>Poolboy Oy</td>\n",
       "    </tr>\n",
       "    <tr>\n",
       "      <th>21634</th>\n",
       "      <td>21635</td>\n",
       "      <td>Scholastic Productions</td>\n",
       "    </tr>\n",
       "    <tr>\n",
       "      <th>21635</th>\n",
       "      <td>21636</td>\n",
       "      <td>Redrum</td>\n",
       "    </tr>\n",
       "  </tbody>\n",
       "</table>\n",
       "<p>21636 rows × 2 columns</p>\n",
       "</div>"
      ],
      "text/plain": [
       "       production_company_type_id production_company_name\n",
       "0                               1     Malcolm Enterprises\n",
       "1                               2             Felix Culpa\n",
       "2                               3      Mig Beats Sdn. Bhd\n",
       "3                               4                 Ebru TV\n",
       "4                               5   Farmhouse Productions\n",
       "...                           ...                     ...\n",
       "21631                       21632   Ovation Entertainment\n",
       "21632                       21633                     TV2\n",
       "21633                       21634              Poolboy Oy\n",
       "21634                       21635  Scholastic Productions\n",
       "21635                       21636                  Redrum\n",
       "\n",
       "[21636 rows x 2 columns]"
      ]
     },
     "execution_count": 56,
     "metadata": {},
     "output_type": "execute_result"
    }
   ],
   "source": [
    "production_company_types_df = pd.read_csv(\"csv/production_company_types.csv\")\n",
    "production_company_types_df"
   ]
  },
  {
   "cell_type": "code",
   "execution_count": 57,
   "id": "17e1d642",
   "metadata": {},
   "outputs": [
    {
     "name": "stdout",
     "output_type": "stream",
     "text": [
      "<class 'pandas.core.frame.DataFrame'>\n",
      "RangeIndex: 21636 entries, 0 to 21635\n",
      "Data columns (total 2 columns):\n",
      " #   Column                      Non-Null Count  Dtype \n",
      "---  ------                      --------------  ----- \n",
      " 0   production_company_type_id  21636 non-null  int64 \n",
      " 1   production_company_name     21636 non-null  object\n",
      "dtypes: int64(1), object(1)\n",
      "memory usage: 338.2+ KB\n"
     ]
    }
   ],
   "source": [
    "production_company_types_df.info()"
   ]
  },
  {
   "cell_type": "code",
   "execution_count": 58,
   "id": "322e35fc",
   "metadata": {},
   "outputs": [
    {
     "data": {
      "text/plain": [
       "production_company_type_id    0\n",
       "production_company_name       0\n",
       "dtype: int64"
      ]
     },
     "execution_count": 58,
     "metadata": {},
     "output_type": "execute_result"
    }
   ],
   "source": [
    "production_company_types_df.isnull().sum()"
   ]
  },
  {
   "cell_type": "markdown",
   "id": "84fd7bb4",
   "metadata": {},
   "source": [
    "# production_companies.csv"
   ]
  },
  {
   "cell_type": "markdown",
   "id": "77780462",
   "metadata": {},
   "source": [
    "### Asocia id de serie con id de la compañía productora"
   ]
  },
  {
   "cell_type": "code",
   "execution_count": 53,
   "id": "37e7472a",
   "metadata": {},
   "outputs": [
    {
     "data": {
      "text/html": [
       "<div>\n",
       "<style scoped>\n",
       "    .dataframe tbody tr th:only-of-type {\n",
       "        vertical-align: middle;\n",
       "    }\n",
       "\n",
       "    .dataframe tbody tr th {\n",
       "        vertical-align: top;\n",
       "    }\n",
       "\n",
       "    .dataframe thead th {\n",
       "        text-align: right;\n",
       "    }\n",
       "</style>\n",
       "<table border=\"1\" class=\"dataframe\">\n",
       "  <thead>\n",
       "    <tr style=\"text-align: right;\">\n",
       "      <th></th>\n",
       "      <th>show_id</th>\n",
       "      <th>production_company_type_id</th>\n",
       "    </tr>\n",
       "  </thead>\n",
       "  <tbody>\n",
       "    <tr>\n",
       "      <th>0</th>\n",
       "      <td>1399</td>\n",
       "      <td>3212</td>\n",
       "    </tr>\n",
       "    <tr>\n",
       "      <th>1</th>\n",
       "      <td>1399</td>\n",
       "      <td>1345</td>\n",
       "    </tr>\n",
       "    <tr>\n",
       "      <th>2</th>\n",
       "      <td>1399</td>\n",
       "      <td>5460</td>\n",
       "    </tr>\n",
       "    <tr>\n",
       "      <th>3</th>\n",
       "      <td>1399</td>\n",
       "      <td>6720</td>\n",
       "    </tr>\n",
       "    <tr>\n",
       "      <th>4</th>\n",
       "      <td>71446</td>\n",
       "      <td>9691</td>\n",
       "    </tr>\n",
       "    <tr>\n",
       "      <th>...</th>\n",
       "      <td>...</td>\n",
       "      <td>...</td>\n",
       "    </tr>\n",
       "    <tr>\n",
       "      <th>86791</th>\n",
       "      <td>240420</td>\n",
       "      <td>9862</td>\n",
       "    </tr>\n",
       "    <tr>\n",
       "      <th>86792</th>\n",
       "      <td>240422</td>\n",
       "      <td>17207</td>\n",
       "    </tr>\n",
       "    <tr>\n",
       "      <th>86793</th>\n",
       "      <td>240427</td>\n",
       "      <td>13091</td>\n",
       "    </tr>\n",
       "    <tr>\n",
       "      <th>86794</th>\n",
       "      <td>240429</td>\n",
       "      <td>1608</td>\n",
       "    </tr>\n",
       "    <tr>\n",
       "      <th>86795</th>\n",
       "      <td>240438</td>\n",
       "      <td>9972</td>\n",
       "    </tr>\n",
       "  </tbody>\n",
       "</table>\n",
       "<p>86796 rows × 2 columns</p>\n",
       "</div>"
      ],
      "text/plain": [
       "       show_id  production_company_type_id\n",
       "0         1399                        3212\n",
       "1         1399                        1345\n",
       "2         1399                        5460\n",
       "3         1399                        6720\n",
       "4        71446                        9691\n",
       "...        ...                         ...\n",
       "86791   240420                        9862\n",
       "86792   240422                       17207\n",
       "86793   240427                       13091\n",
       "86794   240429                        1608\n",
       "86795   240438                        9972\n",
       "\n",
       "[86796 rows x 2 columns]"
      ]
     },
     "execution_count": 53,
     "metadata": {},
     "output_type": "execute_result"
    }
   ],
   "source": [
    "production_companies_df = pd.read_csv(\"csv/production_companies.csv\")\n",
    "production_companies_df"
   ]
  },
  {
   "cell_type": "code",
   "execution_count": 54,
   "id": "3af5da4c",
   "metadata": {},
   "outputs": [
    {
     "name": "stdout",
     "output_type": "stream",
     "text": [
      "<class 'pandas.core.frame.DataFrame'>\n",
      "RangeIndex: 86796 entries, 0 to 86795\n",
      "Data columns (total 2 columns):\n",
      " #   Column                      Non-Null Count  Dtype\n",
      "---  ------                      --------------  -----\n",
      " 0   show_id                     86796 non-null  int64\n",
      " 1   production_company_type_id  86796 non-null  int64\n",
      "dtypes: int64(2)\n",
      "memory usage: 1.3 MB\n"
     ]
    }
   ],
   "source": [
    "production_companies_df.info()"
   ]
  },
  {
   "cell_type": "code",
   "execution_count": 55,
   "id": "a9405693",
   "metadata": {},
   "outputs": [
    {
     "data": {
      "text/plain": [
       "show_id                       0\n",
       "production_company_type_id    0\n",
       "dtype: int64"
      ]
     },
     "execution_count": 55,
     "metadata": {},
     "output_type": "execute_result"
    }
   ],
   "source": [
    "production_companies_df.isnull().sum()"
   ]
  },
  {
   "cell_type": "markdown",
   "id": "ad65af55",
   "metadata": {},
   "source": [
    "# production_countries.csv"
   ]
  },
  {
   "cell_type": "markdown",
   "id": "e691a463",
   "metadata": {},
   "source": [
    "### Asocia id de serie, id de compañía productora e id de país de origen"
   ]
  },
  {
   "cell_type": "code",
   "execution_count": 59,
   "id": "cf7f1a5d",
   "metadata": {},
   "outputs": [
    {
     "data": {
      "text/html": [
       "<div>\n",
       "<style scoped>\n",
       "    .dataframe tbody tr th:only-of-type {\n",
       "        vertical-align: middle;\n",
       "    }\n",
       "\n",
       "    .dataframe tbody tr th {\n",
       "        vertical-align: top;\n",
       "    }\n",
       "\n",
       "    .dataframe thead th {\n",
       "        text-align: right;\n",
       "    }\n",
       "</style>\n",
       "<table border=\"1\" class=\"dataframe\">\n",
       "  <thead>\n",
       "    <tr style=\"text-align: right;\">\n",
       "      <th></th>\n",
       "      <th>show_id</th>\n",
       "      <th>production_country_type_id</th>\n",
       "      <th>origin_country_type_id</th>\n",
       "    </tr>\n",
       "  </thead>\n",
       "  <tbody>\n",
       "    <tr>\n",
       "      <th>0</th>\n",
       "      <td>1399</td>\n",
       "      <td>165</td>\n",
       "      <td>16</td>\n",
       "    </tr>\n",
       "    <tr>\n",
       "      <th>1</th>\n",
       "      <td>1399</td>\n",
       "      <td>30</td>\n",
       "      <td>16</td>\n",
       "    </tr>\n",
       "    <tr>\n",
       "      <th>2</th>\n",
       "      <td>71446</td>\n",
       "      <td>10</td>\n",
       "      <td>150</td>\n",
       "    </tr>\n",
       "    <tr>\n",
       "      <th>3</th>\n",
       "      <td>66732</td>\n",
       "      <td>30</td>\n",
       "      <td>16</td>\n",
       "    </tr>\n",
       "    <tr>\n",
       "      <th>4</th>\n",
       "      <td>1402</td>\n",
       "      <td>30</td>\n",
       "      <td>16</td>\n",
       "    </tr>\n",
       "    <tr>\n",
       "      <th>...</th>\n",
       "      <td>...</td>\n",
       "      <td>...</td>\n",
       "      <td>...</td>\n",
       "    </tr>\n",
       "    <tr>\n",
       "      <th>81686</th>\n",
       "      <td>240419</td>\n",
       "      <td>30</td>\n",
       "      <td>16</td>\n",
       "    </tr>\n",
       "    <tr>\n",
       "      <th>81687</th>\n",
       "      <td>240422</td>\n",
       "      <td>158</td>\n",
       "      <td>1</td>\n",
       "    </tr>\n",
       "    <tr>\n",
       "      <th>81688</th>\n",
       "      <td>241299</td>\n",
       "      <td>89</td>\n",
       "      <td>136</td>\n",
       "    </tr>\n",
       "    <tr>\n",
       "      <th>81689</th>\n",
       "      <td>240429</td>\n",
       "      <td>20</td>\n",
       "      <td>103</td>\n",
       "    </tr>\n",
       "    <tr>\n",
       "      <th>81690</th>\n",
       "      <td>240438</td>\n",
       "      <td>165</td>\n",
       "      <td>26</td>\n",
       "    </tr>\n",
       "  </tbody>\n",
       "</table>\n",
       "<p>81691 rows × 3 columns</p>\n",
       "</div>"
      ],
      "text/plain": [
       "       show_id  production_country_type_id  origin_country_type_id\n",
       "0         1399                         165                      16\n",
       "1         1399                          30                      16\n",
       "2        71446                          10                     150\n",
       "3        66732                          30                      16\n",
       "4         1402                          30                      16\n",
       "...        ...                         ...                     ...\n",
       "81686   240419                          30                      16\n",
       "81687   240422                         158                       1\n",
       "81688   241299                          89                     136\n",
       "81689   240429                          20                     103\n",
       "81690   240438                         165                      26\n",
       "\n",
       "[81691 rows x 3 columns]"
      ]
     },
     "execution_count": 59,
     "metadata": {},
     "output_type": "execute_result"
    }
   ],
   "source": [
    "production_countries_df = pd.read_csv(\"csv/production_countries.csv\")\n",
    "production_countries_df"
   ]
  },
  {
   "cell_type": "code",
   "execution_count": 60,
   "id": "d6a19835",
   "metadata": {},
   "outputs": [
    {
     "name": "stdout",
     "output_type": "stream",
     "text": [
      "<class 'pandas.core.frame.DataFrame'>\n",
      "RangeIndex: 81691 entries, 0 to 81690\n",
      "Data columns (total 3 columns):\n",
      " #   Column                      Non-Null Count  Dtype\n",
      "---  ------                      --------------  -----\n",
      " 0   show_id                     81691 non-null  int64\n",
      " 1   production_country_type_id  81691 non-null  int64\n",
      " 2   origin_country_type_id      81691 non-null  int64\n",
      "dtypes: int64(3)\n",
      "memory usage: 1.9 MB\n"
     ]
    }
   ],
   "source": [
    "production_countries_df.info()"
   ]
  },
  {
   "cell_type": "code",
   "execution_count": 61,
   "id": "b563fd8c",
   "metadata": {},
   "outputs": [
    {
     "data": {
      "text/plain": [
       "show_id                       0\n",
       "production_country_type_id    0\n",
       "origin_country_type_id        0\n",
       "dtype: int64"
      ]
     },
     "execution_count": 61,
     "metadata": {},
     "output_type": "execute_result"
    }
   ],
   "source": [
    "production_countries_df.isnull().sum()"
   ]
  },
  {
   "cell_type": "markdown",
   "id": "0cd3c8ad",
   "metadata": {},
   "source": [
    "# production_country_types.csv"
   ]
  },
  {
   "cell_type": "markdown",
   "id": "7210fa66",
   "metadata": {},
   "source": [
    "### Nombre de países"
   ]
  },
  {
   "cell_type": "code",
   "execution_count": 62,
   "id": "e79b061d",
   "metadata": {},
   "outputs": [
    {
     "data": {
      "text/html": [
       "<div>\n",
       "<style scoped>\n",
       "    .dataframe tbody tr th:only-of-type {\n",
       "        vertical-align: middle;\n",
       "    }\n",
       "\n",
       "    .dataframe tbody tr th {\n",
       "        vertical-align: top;\n",
       "    }\n",
       "\n",
       "    .dataframe thead th {\n",
       "        text-align: right;\n",
       "    }\n",
       "</style>\n",
       "<table border=\"1\" class=\"dataframe\">\n",
       "  <thead>\n",
       "    <tr style=\"text-align: right;\">\n",
       "      <th></th>\n",
       "      <th>production_country_type_id</th>\n",
       "      <th>production_country_name</th>\n",
       "    </tr>\n",
       "  </thead>\n",
       "  <tbody>\n",
       "    <tr>\n",
       "      <th>0</th>\n",
       "      <td>1</td>\n",
       "      <td>Serbia</td>\n",
       "    </tr>\n",
       "    <tr>\n",
       "      <th>1</th>\n",
       "      <td>2</td>\n",
       "      <td>Nicaragua</td>\n",
       "    </tr>\n",
       "    <tr>\n",
       "      <th>2</th>\n",
       "      <td>3</td>\n",
       "      <td>Qatar</td>\n",
       "    </tr>\n",
       "    <tr>\n",
       "      <th>3</th>\n",
       "      <td>4</td>\n",
       "      <td>Bolivia</td>\n",
       "    </tr>\n",
       "    <tr>\n",
       "      <th>4</th>\n",
       "      <td>5</td>\n",
       "      <td>Burkina Faso</td>\n",
       "    </tr>\n",
       "    <tr>\n",
       "      <th>...</th>\n",
       "      <td>...</td>\n",
       "      <td>...</td>\n",
       "    </tr>\n",
       "    <tr>\n",
       "      <th>178</th>\n",
       "      <td>179</td>\n",
       "      <td>Lebanon</td>\n",
       "    </tr>\n",
       "    <tr>\n",
       "      <th>179</th>\n",
       "      <td>180</td>\n",
       "      <td>Tanzania</td>\n",
       "    </tr>\n",
       "    <tr>\n",
       "      <th>180</th>\n",
       "      <td>181</td>\n",
       "      <td>South Sudan</td>\n",
       "    </tr>\n",
       "    <tr>\n",
       "      <th>181</th>\n",
       "      <td>182</td>\n",
       "      <td>French Guiana</td>\n",
       "    </tr>\n",
       "    <tr>\n",
       "      <th>182</th>\n",
       "      <td>183</td>\n",
       "      <td>Mozambique</td>\n",
       "    </tr>\n",
       "  </tbody>\n",
       "</table>\n",
       "<p>183 rows × 2 columns</p>\n",
       "</div>"
      ],
      "text/plain": [
       "     production_country_type_id production_country_name\n",
       "0                             1                  Serbia\n",
       "1                             2               Nicaragua\n",
       "2                             3                   Qatar\n",
       "3                             4                 Bolivia\n",
       "4                             5            Burkina Faso\n",
       "..                          ...                     ...\n",
       "178                         179                 Lebanon\n",
       "179                         180                Tanzania\n",
       "180                         181             South Sudan\n",
       "181                         182           French Guiana\n",
       "182                         183              Mozambique\n",
       "\n",
       "[183 rows x 2 columns]"
      ]
     },
     "execution_count": 62,
     "metadata": {},
     "output_type": "execute_result"
    }
   ],
   "source": [
    "production_country_types_df = pd.read_csv(\"csv/production_country_types.csv\")\n",
    "production_country_types_df"
   ]
  },
  {
   "cell_type": "code",
   "execution_count": 63,
   "id": "c5c82250",
   "metadata": {},
   "outputs": [
    {
     "name": "stdout",
     "output_type": "stream",
     "text": [
      "<class 'pandas.core.frame.DataFrame'>\n",
      "RangeIndex: 183 entries, 0 to 182\n",
      "Data columns (total 2 columns):\n",
      " #   Column                      Non-Null Count  Dtype \n",
      "---  ------                      --------------  ----- \n",
      " 0   production_country_type_id  183 non-null    int64 \n",
      " 1   production_country_name     183 non-null    object\n",
      "dtypes: int64(1), object(1)\n",
      "memory usage: 3.0+ KB\n"
     ]
    }
   ],
   "source": [
    "production_country_types_df.info()"
   ]
  },
  {
   "cell_type": "code",
   "execution_count": 64,
   "id": "28feb51d",
   "metadata": {},
   "outputs": [
    {
     "data": {
      "text/plain": [
       "production_country_type_id    0\n",
       "production_country_name       0\n",
       "dtype: int64"
      ]
     },
     "execution_count": 64,
     "metadata": {},
     "output_type": "execute_result"
    }
   ],
   "source": [
    "production_country_types_df.isnull().sum()"
   ]
  },
  {
   "cell_type": "markdown",
   "id": "f72f905b",
   "metadata": {},
   "source": [
    "# show_votes.csv"
   ]
  },
  {
   "cell_type": "markdown",
   "id": "6395770b",
   "metadata": {},
   "source": [
    "### Votos y media de votos de la serie asociados al id de la serie"
   ]
  },
  {
   "cell_type": "code",
   "execution_count": 65,
   "id": "b2c5558f",
   "metadata": {},
   "outputs": [
    {
     "data": {
      "text/html": [
       "<div>\n",
       "<style scoped>\n",
       "    .dataframe tbody tr th:only-of-type {\n",
       "        vertical-align: middle;\n",
       "    }\n",
       "\n",
       "    .dataframe tbody tr th {\n",
       "        vertical-align: top;\n",
       "    }\n",
       "\n",
       "    .dataframe thead th {\n",
       "        text-align: right;\n",
       "    }\n",
       "</style>\n",
       "<table border=\"1\" class=\"dataframe\">\n",
       "  <thead>\n",
       "    <tr style=\"text-align: right;\">\n",
       "      <th></th>\n",
       "      <th>vote_count</th>\n",
       "      <th>vote_average</th>\n",
       "      <th>show_id</th>\n",
       "    </tr>\n",
       "  </thead>\n",
       "  <tbody>\n",
       "    <tr>\n",
       "      <th>0</th>\n",
       "      <td>21857</td>\n",
       "      <td>8.442</td>\n",
       "      <td>1399</td>\n",
       "    </tr>\n",
       "    <tr>\n",
       "      <th>1</th>\n",
       "      <td>17836</td>\n",
       "      <td>8.257</td>\n",
       "      <td>71446</td>\n",
       "    </tr>\n",
       "    <tr>\n",
       "      <th>2</th>\n",
       "      <td>16161</td>\n",
       "      <td>8.624</td>\n",
       "      <td>66732</td>\n",
       "    </tr>\n",
       "    <tr>\n",
       "      <th>3</th>\n",
       "      <td>15432</td>\n",
       "      <td>8.121</td>\n",
       "      <td>1402</td>\n",
       "    </tr>\n",
       "    <tr>\n",
       "      <th>4</th>\n",
       "      <td>13870</td>\n",
       "      <td>8.486</td>\n",
       "      <td>63174</td>\n",
       "    </tr>\n",
       "    <tr>\n",
       "      <th>...</th>\n",
       "      <td>...</td>\n",
       "      <td>...</td>\n",
       "      <td>...</td>\n",
       "    </tr>\n",
       "    <tr>\n",
       "      <th>162138</th>\n",
       "      <td>0</td>\n",
       "      <td>0.000</td>\n",
       "      <td>240434</td>\n",
       "    </tr>\n",
       "    <tr>\n",
       "      <th>162139</th>\n",
       "      <td>0</td>\n",
       "      <td>0.000</td>\n",
       "      <td>240436</td>\n",
       "    </tr>\n",
       "    <tr>\n",
       "      <th>162140</th>\n",
       "      <td>0</td>\n",
       "      <td>0.000</td>\n",
       "      <td>240437</td>\n",
       "    </tr>\n",
       "    <tr>\n",
       "      <th>162141</th>\n",
       "      <td>0</td>\n",
       "      <td>0.000</td>\n",
       "      <td>240438</td>\n",
       "    </tr>\n",
       "    <tr>\n",
       "      <th>162142</th>\n",
       "      <td>0</td>\n",
       "      <td>0.000</td>\n",
       "      <td>240424</td>\n",
       "    </tr>\n",
       "  </tbody>\n",
       "</table>\n",
       "<p>162143 rows × 3 columns</p>\n",
       "</div>"
      ],
      "text/plain": [
       "        vote_count  vote_average  show_id\n",
       "0            21857         8.442     1399\n",
       "1            17836         8.257    71446\n",
       "2            16161         8.624    66732\n",
       "3            15432         8.121     1402\n",
       "4            13870         8.486    63174\n",
       "...            ...           ...      ...\n",
       "162138           0         0.000   240434\n",
       "162139           0         0.000   240436\n",
       "162140           0         0.000   240437\n",
       "162141           0         0.000   240438\n",
       "162142           0         0.000   240424\n",
       "\n",
       "[162143 rows x 3 columns]"
      ]
     },
     "execution_count": 65,
     "metadata": {},
     "output_type": "execute_result"
    }
   ],
   "source": [
    "show_votes_df = pd.read_csv(\"csv/show_votes.csv\")\n",
    "show_votes_df"
   ]
  },
  {
   "cell_type": "code",
   "execution_count": 66,
   "id": "5c5e4fa8",
   "metadata": {},
   "outputs": [
    {
     "name": "stdout",
     "output_type": "stream",
     "text": [
      "<class 'pandas.core.frame.DataFrame'>\n",
      "RangeIndex: 162143 entries, 0 to 162142\n",
      "Data columns (total 3 columns):\n",
      " #   Column        Non-Null Count   Dtype  \n",
      "---  ------        --------------   -----  \n",
      " 0   vote_count    162143 non-null  int64  \n",
      " 1   vote_average  162143 non-null  float64\n",
      " 2   show_id       162143 non-null  int64  \n",
      "dtypes: float64(1), int64(2)\n",
      "memory usage: 3.7 MB\n"
     ]
    }
   ],
   "source": [
    "show_votes_df.info()"
   ]
  },
  {
   "cell_type": "code",
   "execution_count": 67,
   "id": "6201aacc",
   "metadata": {},
   "outputs": [
    {
     "data": {
      "text/plain": [
       "vote_count      0\n",
       "vote_average    0\n",
       "show_id         0\n",
       "dtype: int64"
      ]
     },
     "execution_count": 67,
     "metadata": {},
     "output_type": "execute_result"
    }
   ],
   "source": [
    "show_votes_df.isnull().sum()"
   ]
  },
  {
   "cell_type": "markdown",
   "id": "89cf3e45",
   "metadata": {},
   "source": [
    "# shows.csv"
   ]
  },
  {
   "cell_type": "markdown",
   "id": "247686b5",
   "metadata": {},
   "source": [
    "### Nombres de las series y campos asociados"
   ]
  },
  {
   "cell_type": "code",
   "execution_count": 68,
   "id": "1ef080f2",
   "metadata": {},
   "outputs": [
    {
     "data": {
      "text/html": [
       "<div>\n",
       "<style scoped>\n",
       "    .dataframe tbody tr th:only-of-type {\n",
       "        vertical-align: middle;\n",
       "    }\n",
       "\n",
       "    .dataframe tbody tr th {\n",
       "        vertical-align: top;\n",
       "    }\n",
       "\n",
       "    .dataframe thead th {\n",
       "        text-align: right;\n",
       "    }\n",
       "</style>\n",
       "<table border=\"1\" class=\"dataframe\">\n",
       "  <thead>\n",
       "    <tr style=\"text-align: right;\">\n",
       "      <th></th>\n",
       "      <th>show_id</th>\n",
       "      <th>name</th>\n",
       "      <th>number_of_seasons</th>\n",
       "      <th>number_of_episodes</th>\n",
       "      <th>overview</th>\n",
       "      <th>adult</th>\n",
       "      <th>in_production</th>\n",
       "      <th>original_name</th>\n",
       "      <th>popularity</th>\n",
       "      <th>tagline</th>\n",
       "      <th>eposide_run_time</th>\n",
       "      <th>type_id</th>\n",
       "      <th>status_id</th>\n",
       "    </tr>\n",
       "  </thead>\n",
       "  <tbody>\n",
       "    <tr>\n",
       "      <th>0</th>\n",
       "      <td>1399</td>\n",
       "      <td>Game of Thrones</td>\n",
       "      <td>8</td>\n",
       "      <td>73</td>\n",
       "      <td>Seven noble families fight for control of the ...</td>\n",
       "      <td>0</td>\n",
       "      <td>0</td>\n",
       "      <td>Game of Thrones</td>\n",
       "      <td>1083.917</td>\n",
       "      <td>Winter Is Coming</td>\n",
       "      <td>0</td>\n",
       "      <td>1</td>\n",
       "      <td>1</td>\n",
       "    </tr>\n",
       "    <tr>\n",
       "      <th>1</th>\n",
       "      <td>71446</td>\n",
       "      <td>Money Heist</td>\n",
       "      <td>3</td>\n",
       "      <td>41</td>\n",
       "      <td>To carry out the biggest heist in history  a m...</td>\n",
       "      <td>0</td>\n",
       "      <td>0</td>\n",
       "      <td>La Casa de Papel</td>\n",
       "      <td>96.354</td>\n",
       "      <td>The perfect robbery.</td>\n",
       "      <td>70</td>\n",
       "      <td>1</td>\n",
       "      <td>1</td>\n",
       "    </tr>\n",
       "    <tr>\n",
       "      <th>2</th>\n",
       "      <td>66732</td>\n",
       "      <td>Stranger Things</td>\n",
       "      <td>4</td>\n",
       "      <td>34</td>\n",
       "      <td>When a young boy vanishes  a small town uncove...</td>\n",
       "      <td>0</td>\n",
       "      <td>1</td>\n",
       "      <td>Stranger Things</td>\n",
       "      <td>185.711</td>\n",
       "      <td>Every ending has a beginning.</td>\n",
       "      <td>0</td>\n",
       "      <td>1</td>\n",
       "      <td>2</td>\n",
       "    </tr>\n",
       "    <tr>\n",
       "      <th>3</th>\n",
       "      <td>1402</td>\n",
       "      <td>The Walking Dead</td>\n",
       "      <td>11</td>\n",
       "      <td>177</td>\n",
       "      <td>Sheriff's deputy Rick Grimes awakens from a co...</td>\n",
       "      <td>0</td>\n",
       "      <td>0</td>\n",
       "      <td>The Walking Dead</td>\n",
       "      <td>489.746</td>\n",
       "      <td>Fight the dead. Fear the living.</td>\n",
       "      <td>42</td>\n",
       "      <td>1</td>\n",
       "      <td>1</td>\n",
       "    </tr>\n",
       "    <tr>\n",
       "      <th>4</th>\n",
       "      <td>63174</td>\n",
       "      <td>Lucifer</td>\n",
       "      <td>6</td>\n",
       "      <td>93</td>\n",
       "      <td>Bored and unhappy as the Lord of Hell  Lucifer...</td>\n",
       "      <td>0</td>\n",
       "      <td>0</td>\n",
       "      <td>Lucifer</td>\n",
       "      <td>416.668</td>\n",
       "      <td>It's good to be bad.</td>\n",
       "      <td>45</td>\n",
       "      <td>1</td>\n",
       "      <td>1</td>\n",
       "    </tr>\n",
       "    <tr>\n",
       "      <th>...</th>\n",
       "      <td>...</td>\n",
       "      <td>...</td>\n",
       "      <td>...</td>\n",
       "      <td>...</td>\n",
       "      <td>...</td>\n",
       "      <td>...</td>\n",
       "      <td>...</td>\n",
       "      <td>...</td>\n",
       "      <td>...</td>\n",
       "      <td>...</td>\n",
       "      <td>...</td>\n",
       "      <td>...</td>\n",
       "      <td>...</td>\n",
       "    </tr>\n",
       "    <tr>\n",
       "      <th>162138</th>\n",
       "      <td>240434</td>\n",
       "      <td>Reporting America at War</td>\n",
       "      <td>1</td>\n",
       "      <td>2</td>\n",
       "      <td>In television's first comprehensive look at an...</td>\n",
       "      <td>0</td>\n",
       "      <td>1</td>\n",
       "      <td>Reporting America at War</td>\n",
       "      <td>0.600</td>\n",
       "      <td>NaN</td>\n",
       "      <td>0</td>\n",
       "      <td>1</td>\n",
       "      <td>2</td>\n",
       "    </tr>\n",
       "    <tr>\n",
       "      <th>162139</th>\n",
       "      <td>240436</td>\n",
       "      <td>Wings Of The Red Star</td>\n",
       "      <td>1</td>\n",
       "      <td>13</td>\n",
       "      <td>A look at the history behind various Russian m...</td>\n",
       "      <td>0</td>\n",
       "      <td>1</td>\n",
       "      <td>Wings Of The Red Star</td>\n",
       "      <td>0.600</td>\n",
       "      <td>NaN</td>\n",
       "      <td>0</td>\n",
       "      <td>1</td>\n",
       "      <td>2</td>\n",
       "    </tr>\n",
       "    <tr>\n",
       "      <th>162140</th>\n",
       "      <td>240437</td>\n",
       "      <td>My Boss</td>\n",
       "      <td>1</td>\n",
       "      <td>2</td>\n",
       "      <td>Cheng Yao  who dreamt of becoming a lawyer  wa...</td>\n",
       "      <td>0</td>\n",
       "      <td>1</td>\n",
       "      <td>你也有今天</td>\n",
       "      <td>1.400</td>\n",
       "      <td>NaN</td>\n",
       "      <td>0</td>\n",
       "      <td>1</td>\n",
       "      <td>2</td>\n",
       "    </tr>\n",
       "    <tr>\n",
       "      <th>162141</th>\n",
       "      <td>240438</td>\n",
       "      <td>Spitfire Ace</td>\n",
       "      <td>1</td>\n",
       "      <td>4</td>\n",
       "      <td>Young pilots follow in the footsteps of the me...</td>\n",
       "      <td>0</td>\n",
       "      <td>0</td>\n",
       "      <td>Spitfire Ace</td>\n",
       "      <td>0.600</td>\n",
       "      <td>NaN</td>\n",
       "      <td>0</td>\n",
       "      <td>1</td>\n",
       "      <td>1</td>\n",
       "    </tr>\n",
       "    <tr>\n",
       "      <th>162142</th>\n",
       "      <td>240424</td>\n",
       "      <td>Eduardo cruz</td>\n",
       "      <td>1</td>\n",
       "      <td>1</td>\n",
       "      <td>Milfsmommature</td>\n",
       "      <td>0</td>\n",
       "      <td>1</td>\n",
       "      <td>Eduardo cruz</td>\n",
       "      <td>0.933</td>\n",
       "      <td>NaN</td>\n",
       "      <td>0</td>\n",
       "      <td>1</td>\n",
       "      <td>2</td>\n",
       "    </tr>\n",
       "  </tbody>\n",
       "</table>\n",
       "<p>162143 rows × 13 columns</p>\n",
       "</div>"
      ],
      "text/plain": [
       "        show_id                      name  number_of_seasons  \\\n",
       "0          1399           Game of Thrones                  8   \n",
       "1         71446               Money Heist                  3   \n",
       "2         66732           Stranger Things                  4   \n",
       "3          1402          The Walking Dead                 11   \n",
       "4         63174                   Lucifer                  6   \n",
       "...         ...                       ...                ...   \n",
       "162138   240434  Reporting America at War                  1   \n",
       "162139   240436     Wings Of The Red Star                  1   \n",
       "162140   240437                   My Boss                  1   \n",
       "162141   240438              Spitfire Ace                  1   \n",
       "162142   240424              Eduardo cruz                  1   \n",
       "\n",
       "        number_of_episodes                                           overview  \\\n",
       "0                       73  Seven noble families fight for control of the ...   \n",
       "1                       41  To carry out the biggest heist in history  a m...   \n",
       "2                       34  When a young boy vanishes  a small town uncove...   \n",
       "3                      177  Sheriff's deputy Rick Grimes awakens from a co...   \n",
       "4                       93  Bored and unhappy as the Lord of Hell  Lucifer...   \n",
       "...                    ...                                                ...   \n",
       "162138                   2  In television's first comprehensive look at an...   \n",
       "162139                  13  A look at the history behind various Russian m...   \n",
       "162140                   2  Cheng Yao  who dreamt of becoming a lawyer  wa...   \n",
       "162141                   4  Young pilots follow in the footsteps of the me...   \n",
       "162142                   1                                     Milfsmommature   \n",
       "\n",
       "        adult  in_production             original_name  popularity  \\\n",
       "0           0              0           Game of Thrones    1083.917   \n",
       "1           0              0          La Casa de Papel      96.354   \n",
       "2           0              1           Stranger Things     185.711   \n",
       "3           0              0          The Walking Dead     489.746   \n",
       "4           0              0                   Lucifer     416.668   \n",
       "...       ...            ...                       ...         ...   \n",
       "162138      0              1  Reporting America at War       0.600   \n",
       "162139      0              1     Wings Of The Red Star       0.600   \n",
       "162140      0              1                     你也有今天       1.400   \n",
       "162141      0              0              Spitfire Ace       0.600   \n",
       "162142      0              1              Eduardo cruz       0.933   \n",
       "\n",
       "                                 tagline  eposide_run_time  type_id  status_id  \n",
       "0                       Winter Is Coming                 0        1          1  \n",
       "1                   The perfect robbery.                70        1          1  \n",
       "2          Every ending has a beginning.                 0        1          2  \n",
       "3       Fight the dead. Fear the living.                42        1          1  \n",
       "4                   It's good to be bad.                45        1          1  \n",
       "...                                  ...               ...      ...        ...  \n",
       "162138                               NaN                 0        1          2  \n",
       "162139                               NaN                 0        1          2  \n",
       "162140                               NaN                 0        1          2  \n",
       "162141                               NaN                 0        1          1  \n",
       "162142                               NaN                 0        1          2  \n",
       "\n",
       "[162143 rows x 13 columns]"
      ]
     },
     "execution_count": 68,
     "metadata": {},
     "output_type": "execute_result"
    }
   ],
   "source": [
    "shows_df = pd.read_csv(\"csv/shows.csv\")\n",
    "shows_df"
   ]
  },
  {
   "cell_type": "code",
   "execution_count": 69,
   "id": "ffee7279",
   "metadata": {},
   "outputs": [
    {
     "name": "stdout",
     "output_type": "stream",
     "text": [
      "<class 'pandas.core.frame.DataFrame'>\n",
      "RangeIndex: 162143 entries, 0 to 162142\n",
      "Data columns (total 13 columns):\n",
      " #   Column              Non-Null Count   Dtype  \n",
      "---  ------              --------------   -----  \n",
      " 0   show_id             162143 non-null  int64  \n",
      " 1   name                162138 non-null  object \n",
      " 2   number_of_seasons   162143 non-null  int64  \n",
      " 3   number_of_episodes  162143 non-null  int64  \n",
      " 4   overview            90755 non-null   object \n",
      " 5   adult               162143 non-null  int64  \n",
      " 6   in_production       162143 non-null  int64  \n",
      " 7   original_name       162138 non-null  object \n",
      " 8   popularity          162143 non-null  float64\n",
      " 9   tagline             5260 non-null    object \n",
      " 10  eposide_run_time    162143 non-null  int64  \n",
      " 11  type_id             162143 non-null  int64  \n",
      " 12  status_id           162143 non-null  int64  \n",
      "dtypes: float64(1), int64(8), object(4)\n",
      "memory usage: 16.1+ MB\n"
     ]
    }
   ],
   "source": [
    "shows_df.info()"
   ]
  },
  {
   "cell_type": "code",
   "execution_count": 70,
   "id": "cb919ea2",
   "metadata": {},
   "outputs": [
    {
     "data": {
      "text/plain": [
       "show_id                    0\n",
       "name                       5\n",
       "number_of_seasons          0\n",
       "number_of_episodes         0\n",
       "overview               71388\n",
       "adult                      0\n",
       "in_production              0\n",
       "original_name              5\n",
       "popularity                 0\n",
       "tagline               156883\n",
       "eposide_run_time           0\n",
       "type_id                    0\n",
       "status_id                  0\n",
       "dtype: int64"
      ]
     },
     "execution_count": 70,
     "metadata": {},
     "output_type": "execute_result"
    }
   ],
   "source": [
    "shows_df.isnull().sum()"
   ]
  },
  {
   "cell_type": "markdown",
   "id": "250a780a",
   "metadata": {},
   "source": [
    "# spoken_language_types.csv"
   ]
  },
  {
   "cell_type": "markdown",
   "id": "461ed73a",
   "metadata": {},
   "source": [
    "### Tipos de lenguajes"
   ]
  },
  {
   "cell_type": "code",
   "execution_count": 71,
   "id": "f2c297e2",
   "metadata": {},
   "outputs": [
    {
     "data": {
      "text/html": [
       "<div>\n",
       "<style scoped>\n",
       "    .dataframe tbody tr th:only-of-type {\n",
       "        vertical-align: middle;\n",
       "    }\n",
       "\n",
       "    .dataframe tbody tr th {\n",
       "        vertical-align: top;\n",
       "    }\n",
       "\n",
       "    .dataframe thead th {\n",
       "        text-align: right;\n",
       "    }\n",
       "</style>\n",
       "<table border=\"1\" class=\"dataframe\">\n",
       "  <thead>\n",
       "    <tr style=\"text-align: right;\">\n",
       "      <th></th>\n",
       "      <th>spoken_language_type_id</th>\n",
       "      <th>spoken_language_name</th>\n",
       "    </tr>\n",
       "  </thead>\n",
       "  <tbody>\n",
       "    <tr>\n",
       "      <th>0</th>\n",
       "      <td>1</td>\n",
       "      <td>Latviešu</td>\n",
       "    </tr>\n",
       "    <tr>\n",
       "      <th>1</th>\n",
       "      <td>2</td>\n",
       "      <td>Latin</td>\n",
       "    </tr>\n",
       "    <tr>\n",
       "      <th>2</th>\n",
       "      <td>3</td>\n",
       "      <td>Português</td>\n",
       "    </tr>\n",
       "    <tr>\n",
       "      <th>3</th>\n",
       "      <td>4</td>\n",
       "      <td>Íslenska</td>\n",
       "    </tr>\n",
       "    <tr>\n",
       "      <th>4</th>\n",
       "      <td>5</td>\n",
       "      <td>euskera</td>\n",
       "    </tr>\n",
       "    <tr>\n",
       "      <th>...</th>\n",
       "      <td>...</td>\n",
       "      <td>...</td>\n",
       "    </tr>\n",
       "    <tr>\n",
       "      <th>69</th>\n",
       "      <td>70</td>\n",
       "      <td>اردو</td>\n",
       "    </tr>\n",
       "    <tr>\n",
       "      <th>70</th>\n",
       "      <td>71</td>\n",
       "      <td>ภาษาไทย</td>\n",
       "    </tr>\n",
       "    <tr>\n",
       "      <th>71</th>\n",
       "      <td>72</td>\n",
       "      <td>한국어/조선말</td>\n",
       "    </tr>\n",
       "    <tr>\n",
       "      <th>72</th>\n",
       "      <td>73</td>\n",
       "      <td>Español</td>\n",
       "    </tr>\n",
       "    <tr>\n",
       "      <th>73</th>\n",
       "      <td>74</td>\n",
       "      <td>Hausa</td>\n",
       "    </tr>\n",
       "  </tbody>\n",
       "</table>\n",
       "<p>74 rows × 2 columns</p>\n",
       "</div>"
      ],
      "text/plain": [
       "    spoken_language_type_id spoken_language_name\n",
       "0                         1             Latviešu\n",
       "1                         2                Latin\n",
       "2                         3            Português\n",
       "3                         4             Íslenska\n",
       "4                         5              euskera\n",
       "..                      ...                  ...\n",
       "69                       70                 اردو\n",
       "70                       71              ภาษาไทย\n",
       "71                       72              한국어/조선말\n",
       "72                       73              Español\n",
       "73                       74                Hausa\n",
       "\n",
       "[74 rows x 2 columns]"
      ]
     },
     "execution_count": 71,
     "metadata": {},
     "output_type": "execute_result"
    }
   ],
   "source": [
    "spoken_language_types_df = pd.read_csv(\"csv/spoken_language_types.csv\")\n",
    "spoken_language_types_df"
   ]
  },
  {
   "cell_type": "code",
   "execution_count": 72,
   "id": "7a6b2a43",
   "metadata": {},
   "outputs": [
    {
     "name": "stdout",
     "output_type": "stream",
     "text": [
      "<class 'pandas.core.frame.DataFrame'>\n",
      "RangeIndex: 74 entries, 0 to 73\n",
      "Data columns (total 2 columns):\n",
      " #   Column                   Non-Null Count  Dtype \n",
      "---  ------                   --------------  ----- \n",
      " 0   spoken_language_type_id  74 non-null     int64 \n",
      " 1   spoken_language_name     74 non-null     object\n",
      "dtypes: int64(1), object(1)\n",
      "memory usage: 1.3+ KB\n"
     ]
    }
   ],
   "source": [
    "spoken_language_types_df.info()"
   ]
  },
  {
   "cell_type": "code",
   "execution_count": 73,
   "id": "48d6adeb",
   "metadata": {},
   "outputs": [
    {
     "data": {
      "text/plain": [
       "spoken_language_type_id    0\n",
       "spoken_language_name       0\n",
       "dtype: int64"
      ]
     },
     "execution_count": 73,
     "metadata": {},
     "output_type": "execute_result"
    }
   ],
   "source": [
    "spoken_language_types_df.isnull().sum()"
   ]
  },
  {
   "cell_type": "markdown",
   "id": "e593f826",
   "metadata": {},
   "source": [
    "# spoken_languages.csv"
   ]
  },
  {
   "cell_type": "markdown",
   "id": "2c4a8d21",
   "metadata": {},
   "source": [
    "### Asocia id de serie con id de lenguaje"
   ]
  },
  {
   "cell_type": "code",
   "execution_count": 75,
   "id": "6b31e280",
   "metadata": {},
   "outputs": [
    {
     "data": {
      "text/html": [
       "<div>\n",
       "<style scoped>\n",
       "    .dataframe tbody tr th:only-of-type {\n",
       "        vertical-align: middle;\n",
       "    }\n",
       "\n",
       "    .dataframe tbody tr th {\n",
       "        vertical-align: top;\n",
       "    }\n",
       "\n",
       "    .dataframe thead th {\n",
       "        text-align: right;\n",
       "    }\n",
       "</style>\n",
       "<table border=\"1\" class=\"dataframe\">\n",
       "  <thead>\n",
       "    <tr style=\"text-align: right;\">\n",
       "      <th></th>\n",
       "      <th>show_id</th>\n",
       "      <th>spoken_language_type_id</th>\n",
       "    </tr>\n",
       "  </thead>\n",
       "  <tbody>\n",
       "    <tr>\n",
       "      <th>0</th>\n",
       "      <td>1399</td>\n",
       "      <td>6</td>\n",
       "    </tr>\n",
       "    <tr>\n",
       "      <th>1</th>\n",
       "      <td>71446</td>\n",
       "      <td>73</td>\n",
       "    </tr>\n",
       "    <tr>\n",
       "      <th>2</th>\n",
       "      <td>66732</td>\n",
       "      <td>6</td>\n",
       "    </tr>\n",
       "    <tr>\n",
       "      <th>3</th>\n",
       "      <td>1402</td>\n",
       "      <td>6</td>\n",
       "    </tr>\n",
       "    <tr>\n",
       "      <th>4</th>\n",
       "      <td>63174</td>\n",
       "      <td>6</td>\n",
       "    </tr>\n",
       "    <tr>\n",
       "      <th>...</th>\n",
       "      <td>...</td>\n",
       "      <td>...</td>\n",
       "    </tr>\n",
       "    <tr>\n",
       "      <th>111681</th>\n",
       "      <td>240432</td>\n",
       "      <td>73</td>\n",
       "    </tr>\n",
       "    <tr>\n",
       "      <th>111682</th>\n",
       "      <td>240433</td>\n",
       "      <td>73</td>\n",
       "    </tr>\n",
       "    <tr>\n",
       "      <th>111683</th>\n",
       "      <td>240436</td>\n",
       "      <td>6</td>\n",
       "    </tr>\n",
       "    <tr>\n",
       "      <th>111684</th>\n",
       "      <td>240437</td>\n",
       "      <td>50</td>\n",
       "    </tr>\n",
       "    <tr>\n",
       "      <th>111685</th>\n",
       "      <td>240438</td>\n",
       "      <td>6</td>\n",
       "    </tr>\n",
       "  </tbody>\n",
       "</table>\n",
       "<p>111686 rows × 2 columns</p>\n",
       "</div>"
      ],
      "text/plain": [
       "        show_id  spoken_language_type_id\n",
       "0          1399                        6\n",
       "1         71446                       73\n",
       "2         66732                        6\n",
       "3          1402                        6\n",
       "4         63174                        6\n",
       "...         ...                      ...\n",
       "111681   240432                       73\n",
       "111682   240433                       73\n",
       "111683   240436                        6\n",
       "111684   240437                       50\n",
       "111685   240438                        6\n",
       "\n",
       "[111686 rows x 2 columns]"
      ]
     },
     "execution_count": 75,
     "metadata": {},
     "output_type": "execute_result"
    }
   ],
   "source": [
    "spoken_languages_df = pd.read_csv(\"csv/spoken_languages.csv\")\n",
    "spoken_languages_df"
   ]
  },
  {
   "cell_type": "code",
   "execution_count": 77,
   "id": "fae6bd5a",
   "metadata": {},
   "outputs": [
    {
     "name": "stdout",
     "output_type": "stream",
     "text": [
      "<class 'pandas.core.frame.DataFrame'>\n",
      "RangeIndex: 111686 entries, 0 to 111685\n",
      "Data columns (total 2 columns):\n",
      " #   Column                   Non-Null Count   Dtype\n",
      "---  ------                   --------------   -----\n",
      " 0   show_id                  111686 non-null  int64\n",
      " 1   spoken_language_type_id  111686 non-null  int64\n",
      "dtypes: int64(2)\n",
      "memory usage: 1.7 MB\n"
     ]
    }
   ],
   "source": [
    "spoken_languages_df.info()"
   ]
  },
  {
   "cell_type": "code",
   "execution_count": 78,
   "id": "1c0f9c26",
   "metadata": {},
   "outputs": [
    {
     "data": {
      "text/plain": [
       "show_id                    0\n",
       "spoken_language_type_id    0\n",
       "dtype: int64"
      ]
     },
     "execution_count": 78,
     "metadata": {},
     "output_type": "execute_result"
    }
   ],
   "source": [
    "spoken_languages_df.isnull().sum()"
   ]
  },
  {
   "cell_type": "markdown",
   "id": "2448d006",
   "metadata": {},
   "source": [
    "# status.csv"
   ]
  },
  {
   "cell_type": "markdown",
   "id": "d11265b2",
   "metadata": {},
   "source": [
    "### Status de la serie (acabada, cancelada, etc). Asociado directamente en shows.csv"
   ]
  },
  {
   "cell_type": "code",
   "execution_count": 79,
   "id": "9afb1758",
   "metadata": {},
   "outputs": [
    {
     "data": {
      "text/html": [
       "<div>\n",
       "<style scoped>\n",
       "    .dataframe tbody tr th:only-of-type {\n",
       "        vertical-align: middle;\n",
       "    }\n",
       "\n",
       "    .dataframe tbody tr th {\n",
       "        vertical-align: top;\n",
       "    }\n",
       "\n",
       "    .dataframe thead th {\n",
       "        text-align: right;\n",
       "    }\n",
       "</style>\n",
       "<table border=\"1\" class=\"dataframe\">\n",
       "  <thead>\n",
       "    <tr style=\"text-align: right;\">\n",
       "      <th></th>\n",
       "      <th>status_id</th>\n",
       "      <th>status_name</th>\n",
       "    </tr>\n",
       "  </thead>\n",
       "  <tbody>\n",
       "    <tr>\n",
       "      <th>0</th>\n",
       "      <td>1</td>\n",
       "      <td>Ended</td>\n",
       "    </tr>\n",
       "    <tr>\n",
       "      <th>1</th>\n",
       "      <td>2</td>\n",
       "      <td>Returning Series</td>\n",
       "    </tr>\n",
       "    <tr>\n",
       "      <th>2</th>\n",
       "      <td>3</td>\n",
       "      <td>Canceled</td>\n",
       "    </tr>\n",
       "    <tr>\n",
       "      <th>3</th>\n",
       "      <td>4</td>\n",
       "      <td>In Production</td>\n",
       "    </tr>\n",
       "    <tr>\n",
       "      <th>4</th>\n",
       "      <td>5</td>\n",
       "      <td>Planned</td>\n",
       "    </tr>\n",
       "    <tr>\n",
       "      <th>5</th>\n",
       "      <td>6</td>\n",
       "      <td>Pilot</td>\n",
       "    </tr>\n",
       "  </tbody>\n",
       "</table>\n",
       "</div>"
      ],
      "text/plain": [
       "   status_id       status_name\n",
       "0          1             Ended\n",
       "1          2  Returning Series\n",
       "2          3          Canceled\n",
       "3          4     In Production\n",
       "4          5           Planned\n",
       "5          6             Pilot"
      ]
     },
     "execution_count": 79,
     "metadata": {},
     "output_type": "execute_result"
    }
   ],
   "source": [
    "status_df = pd.read_csv(\"csv/status.csv\")\n",
    "status_df"
   ]
  },
  {
   "cell_type": "code",
   "execution_count": 80,
   "id": "e2f5aba0",
   "metadata": {},
   "outputs": [
    {
     "name": "stdout",
     "output_type": "stream",
     "text": [
      "<class 'pandas.core.frame.DataFrame'>\n",
      "RangeIndex: 6 entries, 0 to 5\n",
      "Data columns (total 2 columns):\n",
      " #   Column       Non-Null Count  Dtype \n",
      "---  ------       --------------  ----- \n",
      " 0   status_id    6 non-null      int64 \n",
      " 1   status_name  6 non-null      object\n",
      "dtypes: int64(1), object(1)\n",
      "memory usage: 228.0+ bytes\n"
     ]
    }
   ],
   "source": [
    "status_df.info()"
   ]
  },
  {
   "cell_type": "code",
   "execution_count": 81,
   "id": "835cb6b4",
   "metadata": {},
   "outputs": [
    {
     "data": {
      "text/plain": [
       "status_id      0\n",
       "status_name    0\n",
       "dtype: int64"
      ]
     },
     "execution_count": 81,
     "metadata": {},
     "output_type": "execute_result"
    }
   ],
   "source": [
    "status_df.isnull().sum()"
   ]
  },
  {
   "cell_type": "markdown",
   "id": "de26c055",
   "metadata": {},
   "source": [
    "# types.csv"
   ]
  },
  {
   "cell_type": "markdown",
   "id": "907f4198",
   "metadata": {},
   "source": [
    "### Tipo de serie (documental miniserie, reality). No tiene nada que ver con genero. Asociada directamente en shows.csv"
   ]
  },
  {
   "cell_type": "code",
   "execution_count": 83,
   "id": "5f9301e9",
   "metadata": {},
   "outputs": [
    {
     "data": {
      "text/html": [
       "<div>\n",
       "<style scoped>\n",
       "    .dataframe tbody tr th:only-of-type {\n",
       "        vertical-align: middle;\n",
       "    }\n",
       "\n",
       "    .dataframe tbody tr th {\n",
       "        vertical-align: top;\n",
       "    }\n",
       "\n",
       "    .dataframe thead th {\n",
       "        text-align: right;\n",
       "    }\n",
       "</style>\n",
       "<table border=\"1\" class=\"dataframe\">\n",
       "  <thead>\n",
       "    <tr style=\"text-align: right;\">\n",
       "      <th></th>\n",
       "      <th>type_id</th>\n",
       "      <th>type_name</th>\n",
       "    </tr>\n",
       "  </thead>\n",
       "  <tbody>\n",
       "    <tr>\n",
       "      <th>0</th>\n",
       "      <td>1</td>\n",
       "      <td>Scripted</td>\n",
       "    </tr>\n",
       "    <tr>\n",
       "      <th>1</th>\n",
       "      <td>2</td>\n",
       "      <td>Documentary</td>\n",
       "    </tr>\n",
       "    <tr>\n",
       "      <th>2</th>\n",
       "      <td>3</td>\n",
       "      <td>Miniseries</td>\n",
       "    </tr>\n",
       "    <tr>\n",
       "      <th>3</th>\n",
       "      <td>4</td>\n",
       "      <td>Reality</td>\n",
       "    </tr>\n",
       "    <tr>\n",
       "      <th>4</th>\n",
       "      <td>5</td>\n",
       "      <td>Talk Show</td>\n",
       "    </tr>\n",
       "    <tr>\n",
       "      <th>5</th>\n",
       "      <td>6</td>\n",
       "      <td>Video</td>\n",
       "    </tr>\n",
       "    <tr>\n",
       "      <th>6</th>\n",
       "      <td>7</td>\n",
       "      <td>News</td>\n",
       "    </tr>\n",
       "  </tbody>\n",
       "</table>\n",
       "</div>"
      ],
      "text/plain": [
       "   type_id    type_name\n",
       "0        1     Scripted\n",
       "1        2  Documentary\n",
       "2        3   Miniseries\n",
       "3        4      Reality\n",
       "4        5    Talk Show\n",
       "5        6        Video\n",
       "6        7         News"
      ]
     },
     "execution_count": 83,
     "metadata": {},
     "output_type": "execute_result"
    }
   ],
   "source": [
    "types_df = pd.read_csv(\"csv/types.csv\")\n",
    "types_df"
   ]
  },
  {
   "cell_type": "code",
   "execution_count": 84,
   "id": "e190f36c",
   "metadata": {},
   "outputs": [
    {
     "name": "stdout",
     "output_type": "stream",
     "text": [
      "<class 'pandas.core.frame.DataFrame'>\n",
      "RangeIndex: 7 entries, 0 to 6\n",
      "Data columns (total 2 columns):\n",
      " #   Column     Non-Null Count  Dtype \n",
      "---  ------     --------------  ----- \n",
      " 0   type_id    7 non-null      int64 \n",
      " 1   type_name  7 non-null      object\n",
      "dtypes: int64(1), object(1)\n",
      "memory usage: 244.0+ bytes\n"
     ]
    }
   ],
   "source": [
    "types_df.info()"
   ]
  },
  {
   "cell_type": "code",
   "execution_count": null,
   "id": "1ab636c8",
   "metadata": {},
   "outputs": [
    {
     "data": {
      "text/plain": [
       "type_id      0\n",
       "type_name    0\n",
       "dtype: int64"
      ]
     },
     "execution_count": 85,
     "metadata": {},
     "output_type": "execute_result"
    }
   ],
   "source": [
    "types_df.isnull().sum()"
   ]
  }
 ],
 "metadata": {
  "kernelspec": {
   "display_name": "Python 3",
   "language": "python",
   "name": "python3"
  },
  "language_info": {
   "codemirror_mode": {
    "name": "ipython",
    "version": 3
   },
   "file_extension": ".py",
   "mimetype": "text/x-python",
   "name": "python",
   "nbconvert_exporter": "python",
   "pygments_lexer": "ipython3",
   "version": "3.12.2"
  }
 },
 "nbformat": 4,
 "nbformat_minor": 5
}
